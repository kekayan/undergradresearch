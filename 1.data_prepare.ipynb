{
 "cells": [
  {
   "cell_type": "code",
   "execution_count": 1,
   "metadata": {},
   "outputs": [],
   "source": [
    "%load_ext autotime"
   ]
  },
  {
   "cell_type": "code",
   "execution_count": 134,
   "metadata": {},
   "outputs": [
    {
     "name": "stdout",
     "output_type": "stream",
     "text": [
      "time: 4.55 ms\n"
     ]
    }
   ],
   "source": [
    "import gc\n",
    "import nltk\n",
    "import re\n",
    "import pandas as pd\n",
    "import matplotlib.pyplot as plt\n",
    "import seaborn as sns\n",
    "import unidecode\n",
    "from bs4 import BeautifulSoup\n",
    "%matplotlib inline"
   ]
  },
  {
   "cell_type": "markdown",
   "metadata": {},
   "source": [
    "#### download data from kaggle"
   ]
  },
  {
   "cell_type": "markdown",
   "metadata": {},
   "source": [
    "Data can be downloaded from https://www.kaggle.com/stackoverflow/stacksample"
   ]
  },
  {
   "cell_type": "markdown",
   "metadata": {},
   "source": [
    "#### load data , filter , merge"
   ]
  },
  {
   "cell_type": "markdown",
   "metadata": {},
   "source": [
    "##### load and filter questions"
   ]
  },
  {
   "cell_type": "code",
   "execution_count": 135,
   "metadata": {},
   "outputs": [
    {
     "name": "stdout",
     "output_type": "stream",
     "text": [
      "(72950, 4)\n"
     ]
    },
    {
     "data": {
      "text/html": [
       "<div>\n",
       "<style scoped>\n",
       "    .dataframe tbody tr th:only-of-type {\n",
       "        vertical-align: middle;\n",
       "    }\n",
       "\n",
       "    .dataframe tbody tr th {\n",
       "        vertical-align: top;\n",
       "    }\n",
       "\n",
       "    .dataframe thead th {\n",
       "        text-align: right;\n",
       "    }\n",
       "</style>\n",
       "<table border=\"1\" class=\"dataframe\">\n",
       "  <thead>\n",
       "    <tr style=\"text-align: right;\">\n",
       "      <th></th>\n",
       "      <th>Id</th>\n",
       "      <th>Score</th>\n",
       "      <th>Title</th>\n",
       "      <th>Body</th>\n",
       "    </tr>\n",
       "  </thead>\n",
       "  <tbody>\n",
       "    <tr>\n",
       "      <th>0</th>\n",
       "      <td>80</td>\n",
       "      <td>26</td>\n",
       "      <td>SQLStatement.execute() - multiple queries in o...</td>\n",
       "      <td>&lt;p&gt;I've written a database generation script i...</td>\n",
       "    </tr>\n",
       "    <tr>\n",
       "      <th>1</th>\n",
       "      <td>90</td>\n",
       "      <td>144</td>\n",
       "      <td>Good branching and merging tutorials for Torto...</td>\n",
       "      <td>&lt;p&gt;Are there any really good tutorials explain...</td>\n",
       "    </tr>\n",
       "    <tr>\n",
       "      <th>2</th>\n",
       "      <td>120</td>\n",
       "      <td>21</td>\n",
       "      <td>ASP.NET Site Maps</td>\n",
       "      <td>&lt;p&gt;Has anyone got experience creating &lt;strong&gt;...</td>\n",
       "    </tr>\n",
       "    <tr>\n",
       "      <th>3</th>\n",
       "      <td>180</td>\n",
       "      <td>53</td>\n",
       "      <td>Function for creating color wheels</td>\n",
       "      <td>&lt;p&gt;This is something I've pseudo-solved many t...</td>\n",
       "    </tr>\n",
       "    <tr>\n",
       "      <th>4</th>\n",
       "      <td>260</td>\n",
       "      <td>49</td>\n",
       "      <td>Adding scripting functionality to .NET applica...</td>\n",
       "      <td>&lt;p&gt;I have a little game written in C#. It uses...</td>\n",
       "    </tr>\n",
       "  </tbody>\n",
       "</table>\n",
       "</div>"
      ],
      "text/plain": [
       "    Id  Score                                              Title  \\\n",
       "0   80     26  SQLStatement.execute() - multiple queries in o...   \n",
       "1   90    144  Good branching and merging tutorials for Torto...   \n",
       "2  120     21                                  ASP.NET Site Maps   \n",
       "3  180     53                 Function for creating color wheels   \n",
       "4  260     49  Adding scripting functionality to .NET applica...   \n",
       "\n",
       "                                                Body  \n",
       "0  <p>I've written a database generation script i...  \n",
       "1  <p>Are there any really good tutorials explain...  \n",
       "2  <p>Has anyone got experience creating <strong>...  \n",
       "3  <p>This is something I've pseudo-solved many t...  \n",
       "4  <p>I have a little game written in C#. It uses...  "
      ]
     },
     "execution_count": 135,
     "metadata": {},
     "output_type": "execute_result"
    },
    {
     "name": "stdout",
     "output_type": "stream",
     "text": [
      "time: 52.9 s\n"
     ]
    }
   ],
   "source": [
    "questions = pd.read_csv('questions.csv.zip', encoding=\"ISO-8859-1\",\n",
    "                        usecols=['Id', 'Score', 'Title', 'Body'])\n",
    "# filter questions greater than 5 upvotes\n",
    "questions = questions[questions['Score'] > 5]\n",
    "print(questions.shape)\n",
    "questions.head()"
   ]
  },
  {
   "cell_type": "markdown",
   "metadata": {},
   "source": [
    "##### load and group tags"
   ]
  },
  {
   "cell_type": "code",
   "execution_count": 136,
   "metadata": {},
   "outputs": [
    {
     "data": {
      "text/html": [
       "<div>\n",
       "<style scoped>\n",
       "    .dataframe tbody tr th:only-of-type {\n",
       "        vertical-align: middle;\n",
       "    }\n",
       "\n",
       "    .dataframe tbody tr th {\n",
       "        vertical-align: top;\n",
       "    }\n",
       "\n",
       "    .dataframe thead th {\n",
       "        text-align: right;\n",
       "    }\n",
       "</style>\n",
       "<table border=\"1\" class=\"dataframe\">\n",
       "  <thead>\n",
       "    <tr style=\"text-align: right;\">\n",
       "      <th></th>\n",
       "      <th>Id</th>\n",
       "      <th>Tags</th>\n",
       "    </tr>\n",
       "  </thead>\n",
       "  <tbody>\n",
       "    <tr>\n",
       "      <th>0</th>\n",
       "      <td>80</td>\n",
       "      <td>flex,actionscript-3,air</td>\n",
       "    </tr>\n",
       "    <tr>\n",
       "      <th>1</th>\n",
       "      <td>90</td>\n",
       "      <td>svn,tortoisesvn,branch,branching-and-merging</td>\n",
       "    </tr>\n",
       "    <tr>\n",
       "      <th>2</th>\n",
       "      <td>120</td>\n",
       "      <td>sql,asp.net,sitemap</td>\n",
       "    </tr>\n",
       "    <tr>\n",
       "      <th>3</th>\n",
       "      <td>180</td>\n",
       "      <td>algorithm,language-agnostic,colors,color-space</td>\n",
       "    </tr>\n",
       "    <tr>\n",
       "      <th>4</th>\n",
       "      <td>260</td>\n",
       "      <td>c#,.net,scripting,compiler-construction</td>\n",
       "    </tr>\n",
       "  </tbody>\n",
       "</table>\n",
       "</div>"
      ],
      "text/plain": [
       "    Id                                            Tags\n",
       "0   80                         flex,actionscript-3,air\n",
       "1   90    svn,tortoisesvn,branch,branching-and-merging\n",
       "2  120                             sql,asp.net,sitemap\n",
       "3  180  algorithm,language-agnostic,colors,color-space\n",
       "4  260         c#,.net,scripting,compiler-construction"
      ]
     },
     "execution_count": 136,
     "metadata": {},
     "output_type": "execute_result"
    },
    {
     "name": "stdout",
     "output_type": "stream",
     "text": [
      "time: 3min 18s\n"
     ]
    }
   ],
   "source": [
    "tags = pd.read_csv('tags.csv.zip', encoding=\"ISO-8859-1\")\n",
    "tags['Tag'] = tags['Tag'].astype(str)\n",
    "# group the tags by questions Id and join the tags with comma\n",
    "tags = tags.groupby(\"Id\")['Tag'].apply(lambda tags: ','.join(tags))\n",
    "tags.reset_index()\n",
    "tags = pd.DataFrame({'Id': tags.index, 'Tags': tags.values})\n",
    "tags.head(5)"
   ]
  },
  {
   "cell_type": "markdown",
   "metadata": {},
   "source": [
    "##### merge questions with tags on Id"
   ]
  },
  {
   "cell_type": "code",
   "execution_count": 137,
   "metadata": {},
   "outputs": [
    {
     "data": {
      "text/plain": [
       "1876894"
      ]
     },
     "execution_count": 137,
     "metadata": {},
     "output_type": "execute_result"
    },
    {
     "name": "stdout",
     "output_type": "stream",
     "text": [
      "time: 4.02 s\n"
     ]
    }
   ],
   "source": [
    "data_set = questions.merge(tags, on='Id')\n",
    "del questions\n",
    "gc.collect()"
   ]
  },
  {
   "cell_type": "markdown",
   "metadata": {},
   "source": [
    "##### drop the id and score since we don't need them for next stages"
   ]
  },
  {
   "cell_type": "code",
   "execution_count": 138,
   "metadata": {},
   "outputs": [
    {
     "name": "stdout",
     "output_type": "stream",
     "text": [
      "time: 33.8 ms\n"
     ]
    }
   ],
   "source": [
    "data_set.drop(columns=['Id', 'Score'], inplace=True)"
   ]
  },
  {
   "cell_type": "code",
   "execution_count": 139,
   "metadata": {},
   "outputs": [
    {
     "data": {
      "text/html": [
       "<div>\n",
       "<style scoped>\n",
       "    .dataframe tbody tr th:only-of-type {\n",
       "        vertical-align: middle;\n",
       "    }\n",
       "\n",
       "    .dataframe tbody tr th {\n",
       "        vertical-align: top;\n",
       "    }\n",
       "\n",
       "    .dataframe thead th {\n",
       "        text-align: right;\n",
       "    }\n",
       "</style>\n",
       "<table border=\"1\" class=\"dataframe\">\n",
       "  <thead>\n",
       "    <tr style=\"text-align: right;\">\n",
       "      <th></th>\n",
       "      <th>Title</th>\n",
       "      <th>Body</th>\n",
       "      <th>Tags</th>\n",
       "    </tr>\n",
       "  </thead>\n",
       "  <tbody>\n",
       "    <tr>\n",
       "      <th>0</th>\n",
       "      <td>SQLStatement.execute() - multiple queries in o...</td>\n",
       "      <td>&lt;p&gt;I've written a database generation script i...</td>\n",
       "      <td>flex,actionscript-3,air</td>\n",
       "    </tr>\n",
       "    <tr>\n",
       "      <th>1</th>\n",
       "      <td>Good branching and merging tutorials for Torto...</td>\n",
       "      <td>&lt;p&gt;Are there any really good tutorials explain...</td>\n",
       "      <td>svn,tortoisesvn,branch,branching-and-merging</td>\n",
       "    </tr>\n",
       "    <tr>\n",
       "      <th>2</th>\n",
       "      <td>ASP.NET Site Maps</td>\n",
       "      <td>&lt;p&gt;Has anyone got experience creating &lt;strong&gt;...</td>\n",
       "      <td>sql,asp.net,sitemap</td>\n",
       "    </tr>\n",
       "    <tr>\n",
       "      <th>3</th>\n",
       "      <td>Function for creating color wheels</td>\n",
       "      <td>&lt;p&gt;This is something I've pseudo-solved many t...</td>\n",
       "      <td>algorithm,language-agnostic,colors,color-space</td>\n",
       "    </tr>\n",
       "    <tr>\n",
       "      <th>4</th>\n",
       "      <td>Adding scripting functionality to .NET applica...</td>\n",
       "      <td>&lt;p&gt;I have a little game written in C#. It uses...</td>\n",
       "      <td>c#,.net,scripting,compiler-construction</td>\n",
       "    </tr>\n",
       "  </tbody>\n",
       "</table>\n",
       "</div>"
      ],
      "text/plain": [
       "                                               Title  \\\n",
       "0  SQLStatement.execute() - multiple queries in o...   \n",
       "1  Good branching and merging tutorials for Torto...   \n",
       "2                                  ASP.NET Site Maps   \n",
       "3                 Function for creating color wheels   \n",
       "4  Adding scripting functionality to .NET applica...   \n",
       "\n",
       "                                                Body  \\\n",
       "0  <p>I've written a database generation script i...   \n",
       "1  <p>Are there any really good tutorials explain...   \n",
       "2  <p>Has anyone got experience creating <strong>...   \n",
       "3  <p>This is something I've pseudo-solved many t...   \n",
       "4  <p>I have a little game written in C#. It uses...   \n",
       "\n",
       "                                             Tags  \n",
       "0                         flex,actionscript-3,air  \n",
       "1    svn,tortoisesvn,branch,branching-and-merging  \n",
       "2                             sql,asp.net,sitemap  \n",
       "3  algorithm,language-agnostic,colors,color-space  \n",
       "4         c#,.net,scripting,compiler-construction  "
      ]
     },
     "execution_count": 139,
     "metadata": {},
     "output_type": "execute_result"
    },
    {
     "name": "stdout",
     "output_type": "stream",
     "text": [
      "time: 11.5 ms\n"
     ]
    }
   ],
   "source": [
    "data_set.head()"
   ]
  },
  {
   "cell_type": "markdown",
   "metadata": {},
   "source": [
    "#### Analysis Tags"
   ]
  },
  {
   "cell_type": "markdown",
   "metadata": {},
   "source": [
    "##### replace the tags string with tags array"
   ]
  },
  {
   "cell_type": "code",
   "execution_count": 140,
   "metadata": {},
   "outputs": [
    {
     "name": "stdout",
     "output_type": "stream",
     "text": [
      "time: 67 ms\n"
     ]
    }
   ],
   "source": [
    "data_set.Tags = data_set.Tags.apply(lambda x: x.split(','))"
   ]
  },
  {
   "cell_type": "code",
   "execution_count": 141,
   "metadata": {},
   "outputs": [
    {
     "data": {
      "text/html": [
       "<div>\n",
       "<style scoped>\n",
       "    .dataframe tbody tr th:only-of-type {\n",
       "        vertical-align: middle;\n",
       "    }\n",
       "\n",
       "    .dataframe tbody tr th {\n",
       "        vertical-align: top;\n",
       "    }\n",
       "\n",
       "    .dataframe thead th {\n",
       "        text-align: right;\n",
       "    }\n",
       "</style>\n",
       "<table border=\"1\" class=\"dataframe\">\n",
       "  <thead>\n",
       "    <tr style=\"text-align: right;\">\n",
       "      <th></th>\n",
       "      <th>Title</th>\n",
       "      <th>Body</th>\n",
       "      <th>Tags</th>\n",
       "    </tr>\n",
       "  </thead>\n",
       "  <tbody>\n",
       "    <tr>\n",
       "      <th>0</th>\n",
       "      <td>SQLStatement.execute() - multiple queries in o...</td>\n",
       "      <td>&lt;p&gt;I've written a database generation script i...</td>\n",
       "      <td>[flex, actionscript-3, air]</td>\n",
       "    </tr>\n",
       "    <tr>\n",
       "      <th>1</th>\n",
       "      <td>Good branching and merging tutorials for Torto...</td>\n",
       "      <td>&lt;p&gt;Are there any really good tutorials explain...</td>\n",
       "      <td>[svn, tortoisesvn, branch, branching-and-merging]</td>\n",
       "    </tr>\n",
       "    <tr>\n",
       "      <th>2</th>\n",
       "      <td>ASP.NET Site Maps</td>\n",
       "      <td>&lt;p&gt;Has anyone got experience creating &lt;strong&gt;...</td>\n",
       "      <td>[sql, asp.net, sitemap]</td>\n",
       "    </tr>\n",
       "    <tr>\n",
       "      <th>3</th>\n",
       "      <td>Function for creating color wheels</td>\n",
       "      <td>&lt;p&gt;This is something I've pseudo-solved many t...</td>\n",
       "      <td>[algorithm, language-agnostic, colors, color-s...</td>\n",
       "    </tr>\n",
       "    <tr>\n",
       "      <th>4</th>\n",
       "      <td>Adding scripting functionality to .NET applica...</td>\n",
       "      <td>&lt;p&gt;I have a little game written in C#. It uses...</td>\n",
       "      <td>[c#, .net, scripting, compiler-construction]</td>\n",
       "    </tr>\n",
       "  </tbody>\n",
       "</table>\n",
       "</div>"
      ],
      "text/plain": [
       "                                               Title  \\\n",
       "0  SQLStatement.execute() - multiple queries in o...   \n",
       "1  Good branching and merging tutorials for Torto...   \n",
       "2                                  ASP.NET Site Maps   \n",
       "3                 Function for creating color wheels   \n",
       "4  Adding scripting functionality to .NET applica...   \n",
       "\n",
       "                                                Body  \\\n",
       "0  <p>I've written a database generation script i...   \n",
       "1  <p>Are there any really good tutorials explain...   \n",
       "2  <p>Has anyone got experience creating <strong>...   \n",
       "3  <p>This is something I've pseudo-solved many t...   \n",
       "4  <p>I have a little game written in C#. It uses...   \n",
       "\n",
       "                                                Tags  \n",
       "0                        [flex, actionscript-3, air]  \n",
       "1  [svn, tortoisesvn, branch, branching-and-merging]  \n",
       "2                            [sql, asp.net, sitemap]  \n",
       "3  [algorithm, language-agnostic, colors, color-s...  \n",
       "4       [c#, .net, scripting, compiler-construction]  "
      ]
     },
     "execution_count": 141,
     "metadata": {},
     "output_type": "execute_result"
    },
    {
     "name": "stdout",
     "output_type": "stream",
     "text": [
      "time: 8.86 ms\n"
     ]
    }
   ],
   "source": [
    "data_set.head()"
   ]
  },
  {
   "cell_type": "markdown",
   "metadata": {},
   "source": [
    "##### cretae a list of all tags and create a subset list of unique tags"
   ]
  },
  {
   "cell_type": "code",
   "execution_count": 142,
   "metadata": {},
   "outputs": [
    {
     "data": {
      "text/plain": [
       "14883"
      ]
     },
     "execution_count": 142,
     "metadata": {},
     "output_type": "execute_result"
    },
    {
     "name": "stdout",
     "output_type": "stream",
     "text": [
      "time: 60.7 ms\n"
     ]
    }
   ],
   "source": [
    "tags_list = [tag for row in data_set.Tags.values for tag in row]\n",
    "unique_tags = list(set(tags_list))\n",
    "len(unique_tags)"
   ]
  },
  {
   "cell_type": "code",
   "execution_count": 143,
   "metadata": {},
   "outputs": [
    {
     "data": {
      "text/plain": [
       "['document.write',\n",
       " 'mapping',\n",
       " 'flowdocumentscrollviewer',\n",
       " 'form-data',\n",
       " 'jax-ws',\n",
       " 'pymssql',\n",
       " 'packet-capture',\n",
       " 'share',\n",
       " 'custom-controls',\n",
       " 'json-rpc',\n",
       " 'higher-rank-types',\n",
       " 'shiny',\n",
       " 'server-side-validation',\n",
       " 'ssmtp',\n",
       " 'git-commit',\n",
       " 'onmousemove',\n",
       " 'browser-tab',\n",
       " 'phpfox',\n",
       " 'linkedin-api',\n",
       " 'model-view-controller',\n",
       " 'skaction',\n",
       " 'window.location',\n",
       " 'undefined-reference',\n",
       " 'easynetq',\n",
       " 'producer-consumer',\n",
       " 'conditional-comments',\n",
       " 'xmodmap',\n",
       " 'cbc-mac',\n",
       " 'jython',\n",
       " 'spinlock',\n",
       " 'exp',\n",
       " 'mnemonics',\n",
       " 'javacv',\n",
       " 'toolbar',\n",
       " 'allocator',\n",
       " 'httpcontext.cache',\n",
       " 'ppi',\n",
       " '.htaccess',\n",
       " 'haml',\n",
       " 'server-explorer',\n",
       " 'elmah.mvc',\n",
       " 'project-management',\n",
       " 'validating',\n",
       " 'phpactiverecord',\n",
       " 'meta-inf',\n",
       " 'vmware-player',\n",
       " 'movable',\n",
       " 'piping',\n",
       " 'mac-app-store',\n",
       " 'codeception',\n",
       " 'boost-iostreams',\n",
       " 'mpmovieplayercontroller',\n",
       " 'css-animations',\n",
       " 'devops',\n",
       " 'capistrano3',\n",
       " 'mjpeg',\n",
       " 'naming',\n",
       " 'federated-identity',\n",
       " 'isnullorempty',\n",
       " 'jsobject',\n",
       " 'xml-parsing',\n",
       " 'flops',\n",
       " 'circleci',\n",
       " 'dom-events',\n",
       " 'compiler-optimization',\n",
       " 'nscalendar',\n",
       " 'termination',\n",
       " 'measureoverride',\n",
       " 'corpus',\n",
       " 'kleisli',\n",
       " 'tre-library',\n",
       " 'google-news',\n",
       " 'winforms',\n",
       " 'pinchzoom',\n",
       " 'adobe-reader',\n",
       " 'boost-serialization',\n",
       " 'table-rename',\n",
       " 'xpages',\n",
       " 'intl',\n",
       " 'connection-leaks',\n",
       " 'offline-mode',\n",
       " 'aurelia',\n",
       " 'application-security',\n",
       " 'agile-processes',\n",
       " 'unicode-string',\n",
       " 'xll',\n",
       " 'installer',\n",
       " 'embedded',\n",
       " 'ellipse',\n",
       " 'autopostback',\n",
       " 'pmap',\n",
       " 'vba',\n",
       " 'knockout.js',\n",
       " 'input-filtering',\n",
       " 'cllocationdistance',\n",
       " 'backbone.js',\n",
       " 'set',\n",
       " 'symfony-2.2',\n",
       " 'android-dialogfragment',\n",
       " 'lexer',\n",
       " 'size',\n",
       " 'jackrabbit',\n",
       " 'quantstrat',\n",
       " 'keyguardlock',\n",
       " 'windows-2003-webserver',\n",
       " 'mkpinannotationview',\n",
       " 'globbing',\n",
       " 'nokogiri',\n",
       " 'function-overloading',\n",
       " 'near-real-time',\n",
       " 'pyephem',\n",
       " 'lombok',\n",
       " 'wii',\n",
       " 'pinvoke',\n",
       " 'data-consistency',\n",
       " 'tee',\n",
       " 'squeak',\n",
       " 'printstream',\n",
       " 'joined-subclass',\n",
       " 'template-matching',\n",
       " 'ppc',\n",
       " 'database-design',\n",
       " 'ide',\n",
       " 'distribution',\n",
       " 'ssdp',\n",
       " 'mupdf',\n",
       " 'midp',\n",
       " 'reactivemongo',\n",
       " 'forwarding-reference',\n",
       " 'surfaceview',\n",
       " 'cyanogenmod',\n",
       " 'mcrypt',\n",
       " 'yahoo-pipes',\n",
       " 'nservicebus',\n",
       " 'android-4.2-jelly-bean',\n",
       " 'byte-order-mark',\n",
       " 'wstring',\n",
       " 'memory-corruption',\n",
       " 'mogenerator',\n",
       " 'youtube-javascript-api',\n",
       " 'dynamic-dispatch',\n",
       " 'python',\n",
       " 'jquery-isotope',\n",
       " 'superclass',\n",
       " 'gwt-mvp',\n",
       " 'alphanumeric',\n",
       " 'ejb',\n",
       " 'uipageviewcontroller',\n",
       " 'scrapy',\n",
       " 'om',\n",
       " 'java',\n",
       " 'jruby-rack',\n",
       " 'jenkins-plugins',\n",
       " 'redirectstandardoutput',\n",
       " 'visited',\n",
       " 'continue',\n",
       " 'itanium',\n",
       " 'firefox-3',\n",
       " 'nsenumerator',\n",
       " 'asp.net-mvc-2',\n",
       " 'integrated-pipeline-mode',\n",
       " 'challenge-response',\n",
       " 'in-place',\n",
       " 'static-functions',\n",
       " 'viewdidunload',\n",
       " 'onion-architecture',\n",
       " 'gzip',\n",
       " 'memmove',\n",
       " 'osascript',\n",
       " 'csr',\n",
       " 'nunit-addins',\n",
       " 'database-deployment',\n",
       " 'battery',\n",
       " 'ccnet-config',\n",
       " 'tlb',\n",
       " 'xamarin.mobile',\n",
       " 'uwp',\n",
       " 'scala-ide',\n",
       " 'bmp',\n",
       " 'sublist',\n",
       " 'attached-properties',\n",
       " 'android-traceview',\n",
       " 'storekit',\n",
       " 'audit-trail',\n",
       " 'dividebyzeroexception',\n",
       " 'quotations',\n",
       " 'kalman-filter',\n",
       " 'trello',\n",
       " 'office365-restapi',\n",
       " 'oci',\n",
       " 'url-design',\n",
       " 'freebsd',\n",
       " 'zend-autoloader',\n",
       " 'alarm',\n",
       " 'office-2007',\n",
       " 'respond.js',\n",
       " 'bluetooth',\n",
       " 'webdeploy',\n",
       " 'android-cursor',\n",
       " 'operations',\n",
       " 'google-roads-api',\n",
       " 'googletest',\n",
       " 'google-openid',\n",
       " 'php-5.2',\n",
       " 'for-else',\n",
       " 'nsentitydescription',\n",
       " 'kdevelop',\n",
       " 'regexbuddy',\n",
       " 'reusability',\n",
       " 'maptools',\n",
       " 'django-manage.py',\n",
       " 'xampp',\n",
       " 'gac',\n",
       " 'webresponse',\n",
       " 'html.actionlink',\n",
       " 'payment',\n",
       " 'drag',\n",
       " 'android-mediarecorder',\n",
       " 'erase',\n",
       " 'stringbuffer',\n",
       " 'angularjs-injector',\n",
       " 'ansible-2.x',\n",
       " 'matplotlib-basemap',\n",
       " 'pushdown-automaton',\n",
       " 'selectors-api',\n",
       " 'isa',\n",
       " 'jquery-ui-plugins',\n",
       " 'mosek',\n",
       " 'scope-identity',\n",
       " 'named-query',\n",
       " 'tabitem',\n",
       " 'java-io',\n",
       " 'native-activity',\n",
       " 'edmx-designer',\n",
       " 'fma',\n",
       " 'object-code',\n",
       " 'action-filter',\n",
       " 'rdfs',\n",
       " 'usort',\n",
       " 'amazon-redshift',\n",
       " 'inkcanvas',\n",
       " 'stack-based',\n",
       " 'ecj',\n",
       " 'gadt',\n",
       " 'adhoc',\n",
       " 'serviceloader',\n",
       " 'special-characters',\n",
       " 'fire-and-forget',\n",
       " 'augmented-reality',\n",
       " 'rakefile',\n",
       " 'document-ready',\n",
       " 'code-readability',\n",
       " 'auth0',\n",
       " 'pci-compliance',\n",
       " 'microtime',\n",
       " 'web-hosting',\n",
       " 'apache-poi',\n",
       " 'microsoft-bits',\n",
       " 'portable-class-library',\n",
       " 'viewer',\n",
       " 'angularjs-ng-click',\n",
       " 'returnurl',\n",
       " 'jasmine-reporters',\n",
       " 'auto',\n",
       " 'httpserver',\n",
       " 'bootloader',\n",
       " 'coercion',\n",
       " 'rebol',\n",
       " 'sql-server-2012',\n",
       " 'surrogate-key',\n",
       " 'google-code-prettify',\n",
       " 'bridging-header',\n",
       " 'ddk',\n",
       " 'strstr',\n",
       " 'visualforce',\n",
       " 'llvm-ir',\n",
       " 'permalinks',\n",
       " 'vsta',\n",
       " 'csslint',\n",
       " 'statet',\n",
       " 'django-1.5',\n",
       " 'bsod',\n",
       " 'jquery-sortable',\n",
       " 'qslider',\n",
       " 'jenkinsfile',\n",
       " 'funq',\n",
       " 'continuation',\n",
       " 'bitarray',\n",
       " 'rtsp',\n",
       " 'gmaps4rails',\n",
       " 'app-offline.htm',\n",
       " 'whitelist',\n",
       " 'scalable',\n",
       " 'global',\n",
       " 'lightweight-processes',\n",
       " 'jdk1.6',\n",
       " 'dbnull',\n",
       " 'hsqldb',\n",
       " 'const-reference',\n",
       " 'dc.js',\n",
       " 'uialertview',\n",
       " 'url-rewrite-module',\n",
       " 'restful-authentication',\n",
       " 'color-picker',\n",
       " 'sftp',\n",
       " 'ios-4.2',\n",
       " 'spring-dsl',\n",
       " 'comdat-folding',\n",
       " 'ir',\n",
       " 'vibed',\n",
       " 'cocoapods',\n",
       " 'automated-refactoring',\n",
       " 'ionic2',\n",
       " 'jini',\n",
       " 'speex',\n",
       " 'ace-editor',\n",
       " 'cassandra-2.0',\n",
       " 'worker',\n",
       " 'predict',\n",
       " 'cllocationcoordinate2d',\n",
       " 'internet-connection',\n",
       " 'bignum',\n",
       " 'terminal-emulator',\n",
       " 'foreman',\n",
       " 'interlocked-increment',\n",
       " 'android-loadermanager',\n",
       " 'passport.js',\n",
       " 'upgrade',\n",
       " 'alt-attribute',\n",
       " 'sql-order-by',\n",
       " 'join',\n",
       " 'in-operator',\n",
       " 'save-as',\n",
       " 'delphi-xe2',\n",
       " 'language-history',\n",
       " 'omniauth',\n",
       " 'http-pipelining',\n",
       " 'executable-jar',\n",
       " 'msiexec',\n",
       " 'yeoman',\n",
       " 'ppp',\n",
       " 'gets',\n",
       " 'hibernate-filters',\n",
       " 'restkit-0.20',\n",
       " 'sendgrid',\n",
       " 'vdso',\n",
       " 'mandrill',\n",
       " 'jdbc',\n",
       " 'background-service',\n",
       " 'fireworks',\n",
       " 'metaspace',\n",
       " 'rtp',\n",
       " 'galileo',\n",
       " 'mute',\n",
       " 'labview',\n",
       " 'uitoolbar',\n",
       " 'intel',\n",
       " 'selectmethod',\n",
       " 'sales',\n",
       " 'recyclerview-layout',\n",
       " 'led',\n",
       " 'ctype',\n",
       " 'brute-force',\n",
       " 'intuit-partner-platform',\n",
       " 'cclayer',\n",
       " 'take',\n",
       " 'asp.net-mvc-3',\n",
       " 'continuous',\n",
       " 'sharppdf',\n",
       " 'rspec',\n",
       " 'drools',\n",
       " 'pseudolocalization',\n",
       " 'clipboard',\n",
       " 'http-accept-language',\n",
       " 'data-modeling',\n",
       " 'uialertcontroller',\n",
       " 'css-modules',\n",
       " 'formidable',\n",
       " 'sharepoint-listtemplate',\n",
       " 'cmenu',\n",
       " 'custom-fields',\n",
       " 'parquet',\n",
       " 'messagepump',\n",
       " 'mediaelement.js',\n",
       " 'operators',\n",
       " 'badimageformatexception',\n",
       " 'iphone-sdk-3.2',\n",
       " 'system.windows.media',\n",
       " 'parfor',\n",
       " 'opencl',\n",
       " 'math-mode',\n",
       " 'pose-estimation',\n",
       " 'termios',\n",
       " 'ratingbar',\n",
       " 'signing',\n",
       " 'android-contentprovider',\n",
       " 'jdeveloper',\n",
       " 'clang-format',\n",
       " 'conventions',\n",
       " 'ruby-c-extension',\n",
       " 'dhtmlx-scheduler',\n",
       " 'hocon',\n",
       " 'genie',\n",
       " 'pymc',\n",
       " 'vsix',\n",
       " 'chef-solo',\n",
       " 'frontend',\n",
       " 'lookbehind',\n",
       " 'hamcrest',\n",
       " 'ember-model',\n",
       " 'mouse-position',\n",
       " 'facebook-sdk-3.0',\n",
       " 'eigen',\n",
       " 'chai',\n",
       " 'date-comparison',\n",
       " 'leiningen',\n",
       " 'google-calendar',\n",
       " 'capacity',\n",
       " 'fixed-point',\n",
       " 'xcode7.1beta',\n",
       " 'directive',\n",
       " 'epoch',\n",
       " 'tcl',\n",
       " 'guzzle6',\n",
       " 'dynamic-language-runtime',\n",
       " 'diacritics',\n",
       " 'elliptic-curve',\n",
       " 'ant',\n",
       " 'javascript-framework',\n",
       " 'pass-by-reference',\n",
       " 'browser-feature-detection',\n",
       " 'sahi',\n",
       " 'clone',\n",
       " 'public-members',\n",
       " 'jbpm',\n",
       " 'nlp',\n",
       " 'sqldatatypes',\n",
       " 'pluralize',\n",
       " 'breadcrumbs',\n",
       " 'particle-filter',\n",
       " 'wlan',\n",
       " 'asp.net-mvc-partialview',\n",
       " 'localdb',\n",
       " 'discourse',\n",
       " 'amazon-sqs',\n",
       " 'scala-macros',\n",
       " 'web-reference',\n",
       " 'prototype-programming',\n",
       " 'msys',\n",
       " 'digital-filter',\n",
       " 'using',\n",
       " 'autoresize',\n",
       " 'unary-operator',\n",
       " 'mongorestore',\n",
       " 'z-notation',\n",
       " 'ogg',\n",
       " 'liferay',\n",
       " 'mismatch',\n",
       " 'usermanager',\n",
       " 'character-class',\n",
       " 'disk-partitioning',\n",
       " 'solver',\n",
       " 'curve',\n",
       " 'cjk',\n",
       " 'nsviewcontroller',\n",
       " 'executionexception',\n",
       " 'dotconnect',\n",
       " 'treeviewer',\n",
       " 'stroke',\n",
       " 'jbehave',\n",
       " 'memory-mapped-files',\n",
       " 'opscenter',\n",
       " 'genetic-programming',\n",
       " 'tortoisesvn',\n",
       " 'mirroring',\n",
       " 'relation',\n",
       " 'android-uiautomator',\n",
       " 'amber-smalltalk',\n",
       " 'amazon-ebs',\n",
       " 'c++-concepts',\n",
       " 'textwrapping',\n",
       " 'typeahead.js',\n",
       " 'libffi',\n",
       " 'git-config',\n",
       " 'oomph',\n",
       " 'reshape2',\n",
       " 'equation',\n",
       " 'base-url',\n",
       " 'roulette-wheel-selection',\n",
       " 'auto-increment',\n",
       " 'slackware',\n",
       " 'ember-controllers',\n",
       " 'kernighan-and-ritchie',\n",
       " 'rounding-error',\n",
       " 'enable-if',\n",
       " 'encodeuricomponent',\n",
       " 'exoplayer',\n",
       " 'linux-device-driver',\n",
       " 'sqldf',\n",
       " 'language-details',\n",
       " 'cappuccino',\n",
       " 'django-mailer',\n",
       " 'symfony-2.1',\n",
       " 'mediawiki-templates',\n",
       " 'roc',\n",
       " 'graph-algorithm',\n",
       " 'ejs',\n",
       " 'axis',\n",
       " 'photon',\n",
       " 'hipe',\n",
       " 'amqp',\n",
       " 'html',\n",
       " 'rasterizing',\n",
       " 'java-2d',\n",
       " 'nexus-s',\n",
       " 'globalize2',\n",
       " 'cldc',\n",
       " 'alarmmanager',\n",
       " 'docker-toolbox',\n",
       " 'ramdrive',\n",
       " 'coldfusion-9',\n",
       " 'progress',\n",
       " 'git-index',\n",
       " 'corruption',\n",
       " 'windows-live-id',\n",
       " 'scatter-plot',\n",
       " 'smart-quotes',\n",
       " 'database-schema',\n",
       " 'libiconv',\n",
       " 'ibeacon',\n",
       " 'flash-cs4',\n",
       " 'android-datepicker',\n",
       " 'nsuinteger',\n",
       " 'nstableviewcell',\n",
       " 'koa-router',\n",
       " 'gstreamer',\n",
       " 'code-structure',\n",
       " 'fastcgi',\n",
       " '.net-attributes',\n",
       " 'reshape',\n",
       " 'deterministic',\n",
       " 'chromakey',\n",
       " 'service-model',\n",
       " 'mouse',\n",
       " 'iso-8859-1',\n",
       " 'time-precision',\n",
       " 'mpmovieplayer',\n",
       " 'nio',\n",
       " 'google-image-search',\n",
       " 'event-bus',\n",
       " 'publishing-site',\n",
       " 'shell-icons',\n",
       " 'stlport',\n",
       " 'faultexception',\n",
       " 'android-studio-2.1',\n",
       " 'spring-webflow',\n",
       " 'ggplot2',\n",
       " 'tbb',\n",
       " 'ios-frameworks',\n",
       " 'game-theory',\n",
       " 'pg',\n",
       " 'obsolete',\n",
       " 'slide',\n",
       " 'rabbitmq-exchange',\n",
       " 'zbuffer',\n",
       " 'artifact',\n",
       " 'linuxmint',\n",
       " 'attributeusage',\n",
       " 'symfony-sonata',\n",
       " 'ip-geolocation',\n",
       " 'pkgbuild',\n",
       " 'cocoon-gem',\n",
       " 'fpdi',\n",
       " 'sandcastle',\n",
       " 'java-web-start',\n",
       " 'kendo-ui',\n",
       " 'endl',\n",
       " 'google-search-platform',\n",
       " 'report',\n",
       " 'stagefright',\n",
       " 'video-watermarking',\n",
       " '.htpasswd',\n",
       " 'n-dimensional',\n",
       " 'refresh',\n",
       " 'vmware-server',\n",
       " 'legacy',\n",
       " 'multiple-models',\n",
       " 'stub',\n",
       " 'date-parsing',\n",
       " 'viewexpiredexception',\n",
       " 'datawindow',\n",
       " 'ceil',\n",
       " 'function',\n",
       " 'undefined-function',\n",
       " 'cdata',\n",
       " 'xhtml-1.0-strict',\n",
       " 'xml-namespaces',\n",
       " 'ultrawebgrid',\n",
       " 'idataerrorinfo',\n",
       " 'jradiobutton',\n",
       " 'hdf5',\n",
       " 'ansi',\n",
       " 'mediacontroller',\n",
       " 'carousel',\n",
       " 'themeroller',\n",
       " 'stata',\n",
       " 'resultset',\n",
       " 'mvcc',\n",
       " 'vsync',\n",
       " 'geodjango',\n",
       " 'interactive',\n",
       " 'autocommit',\n",
       " 'application-settings',\n",
       " 'setup-project',\n",
       " 'mobile-website',\n",
       " 'linkify',\n",
       " 'nw.js',\n",
       " 'widget',\n",
       " 'charsequence',\n",
       " 'background-agents',\n",
       " 'layout-animation',\n",
       " 'icons',\n",
       " 'prototypejs',\n",
       " 'text-extraction',\n",
       " 'annotate',\n",
       " 'xul',\n",
       " 'nouislider',\n",
       " 'word-boundary',\n",
       " 'asn.1',\n",
       " 'gamepad',\n",
       " 'core-telephony',\n",
       " 'nsdata',\n",
       " 'beautifier',\n",
       " 'binary-search',\n",
       " 'vm-implementation',\n",
       " 'libstdc++',\n",
       " 'rda',\n",
       " 'pygments',\n",
       " 'embedded-documents',\n",
       " 'iphone-softkeyboard',\n",
       " 'openacc',\n",
       " 'windows-rt',\n",
       " 'primality-test',\n",
       " 'core-text',\n",
       " 'ajdt',\n",
       " 'canexecute',\n",
       " 'sender',\n",
       " 'bounding-box',\n",
       " 'xml-declaration',\n",
       " 'visual-studio-addins',\n",
       " 'c2hs',\n",
       " 'firedac',\n",
       " 'cashapelayer',\n",
       " 'statistics',\n",
       " 'google-eclipse-plugin',\n",
       " 'urllib',\n",
       " 'jtextcomponent',\n",
       " 'devkitpro',\n",
       " 'xhtmlrenderer',\n",
       " 'column-defaults',\n",
       " 'aws-api-gateway',\n",
       " 'health-kit',\n",
       " 'wcf-ria-services',\n",
       " 'reflection',\n",
       " 'ria',\n",
       " 'c++-standard-library',\n",
       " 'tabpanel',\n",
       " 'pyhook',\n",
       " 'angular2-template',\n",
       " 'rational',\n",
       " 'query-parser',\n",
       " 'parse-forest',\n",
       " 'decoding',\n",
       " 'sendmessage',\n",
       " 'nslog',\n",
       " 'nightwatch.js',\n",
       " 'text-editor',\n",
       " 'load-testing',\n",
       " 'snowfall',\n",
       " 'slave',\n",
       " 'merge',\n",
       " 'css-shapes',\n",
       " 'carplay',\n",
       " 'landscape-portrait',\n",
       " 'tacit-programming',\n",
       " 'bloburls',\n",
       " 'mutual-recursion',\n",
       " 'sp-executesql',\n",
       " 'mirth',\n",
       " 'in-class-initialization',\n",
       " 'propertychanged',\n",
       " 'connect.js',\n",
       " 'mencoder',\n",
       " 'dot',\n",
       " 'try-catch-finally',\n",
       " 'fedex',\n",
       " 'msgpack',\n",
       " 'purify',\n",
       " 'opengl-es-2.0',\n",
       " 'feature-extraction',\n",
       " 'error-checking',\n",
       " 'clojure-core.logic',\n",
       " 'powershell',\n",
       " 'faceted-search',\n",
       " 'motorola',\n",
       " 'transition',\n",
       " 'docker-compose',\n",
       " 'start-job',\n",
       " 'boost-multi-array',\n",
       " 'http-response-codes',\n",
       " 'access-levels',\n",
       " 'backbone-views',\n",
       " 'multiple-sites',\n",
       " 'right-angle-bracket',\n",
       " 'cufon',\n",
       " 'sql-injection',\n",
       " 'casting',\n",
       " 'ios-camera',\n",
       " 'recarray',\n",
       " 'namespaces',\n",
       " 'orientdb',\n",
       " 'disk',\n",
       " 'uiimageview',\n",
       " 'mifare',\n",
       " 'qt4.7',\n",
       " 'traffic',\n",
       " 'kombu',\n",
       " 'development-environment',\n",
       " 'resttemplate',\n",
       " 'linechart',\n",
       " 'scene',\n",
       " 'tthread',\n",
       " 'edge-detection',\n",
       " 'http-request',\n",
       " 'stomp',\n",
       " 'flex4.6',\n",
       " 'custom-component',\n",
       " 'move',\n",
       " 'mage',\n",
       " 'failure-slice',\n",
       " 'completable-future',\n",
       " 'gcov',\n",
       " 'chromium-embedded',\n",
       " 'jquery-callback',\n",
       " 'httpd.conf',\n",
       " 'voxel',\n",
       " 'dacpac',\n",
       " 'onerror',\n",
       " 'application-loader',\n",
       " 'rowversion',\n",
       " 'assembly-signing',\n",
       " 'nstoolbaritem',\n",
       " 'scala-cats',\n",
       " 'nth-root',\n",
       " 'memory-visibility',\n",
       " 'ucontext',\n",
       " 'imessage',\n",
       " 'facebook-unity-sdk',\n",
       " 'xfl',\n",
       " 'first-class-functions',\n",
       " 'phonegap-build',\n",
       " 'shared',\n",
       " 'before-filter',\n",
       " 'hit-highlighting',\n",
       " 'libavcodec',\n",
       " 'compareto',\n",
       " 'woff2',\n",
       " 'multi-project',\n",
       " 'servicestack',\n",
       " 'beta-testing',\n",
       " 'aggregate',\n",
       " 'fosoauthserverbundle',\n",
       " 'swift2',\n",
       " 'nuget',\n",
       " 'dojo',\n",
       " 'text-classification',\n",
       " 'xcode7.2',\n",
       " 'factors',\n",
       " 'error-correction',\n",
       " 'ios7',\n",
       " 'dyld',\n",
       " 'animationdrawable',\n",
       " 'minimize',\n",
       " 'unix-head',\n",
       " 'gps',\n",
       " 'database-cleaner',\n",
       " 'template-aliases',\n",
       " 'coderush',\n",
       " 'model-checking',\n",
       " 'panel',\n",
       " 'segue',\n",
       " 'apache-commons-lang',\n",
       " 'mvvmcross',\n",
       " 'android-screen-support',\n",
       " 'graph',\n",
       " 'dotnet-cli',\n",
       " 'git-archive',\n",
       " 'pika',\n",
       " 'html2pdf',\n",
       " 'pychecker',\n",
       " 'zipline',\n",
       " 'dynamic-typing',\n",
       " 'counter-cache',\n",
       " 'linq-to-entities',\n",
       " 'es6-promise',\n",
       " 'nonblocking',\n",
       " 'dialogfragment',\n",
       " 'compass',\n",
       " 'updatemodel',\n",
       " 'bidi',\n",
       " 'charles',\n",
       " 'social-framework',\n",
       " 'code-migration',\n",
       " 'jls',\n",
       " 'static-classes',\n",
       " 'dcraw',\n",
       " 'fragmentation',\n",
       " 'fluentvalidation',\n",
       " 'builtin',\n",
       " 'template-variables',\n",
       " 'playframework-1.x',\n",
       " 'overflowexception',\n",
       " 'scriptlet',\n",
       " 'jsessionid',\n",
       " 'comeau',\n",
       " 'component-scan',\n",
       " 'eshell',\n",
       " 'tagbuilder',\n",
       " 'baseadapter',\n",
       " 'browscap',\n",
       " 'drawertoggle',\n",
       " 'leptonica',\n",
       " 'critical-section',\n",
       " 'openstack-swift',\n",
       " 'pair-programming',\n",
       " 'openjdk',\n",
       " 'distortion',\n",
       " 'xmm',\n",
       " 'entity-framework-4.3',\n",
       " 'type-promotion',\n",
       " 'tar',\n",
       " 'inets',\n",
       " 'mv',\n",
       " 'silverlight',\n",
       " 'optional-values',\n",
       " 'public-activity',\n",
       " 'yui-pure-css',\n",
       " 'pyside',\n",
       " 'macros',\n",
       " 'scala-2.11',\n",
       " 'categorization',\n",
       " 'robot',\n",
       " 'class-method',\n",
       " 'spss',\n",
       " 'agents',\n",
       " 'apache-shindig',\n",
       " 'assembly-attributes',\n",
       " 'asterisk',\n",
       " 'data-type-conversion',\n",
       " 'centos5',\n",
       " 'rijndaelmanaged',\n",
       " 'oracle12c',\n",
       " 'php-include',\n",
       " 'bower',\n",
       " 'wss4j',\n",
       " 'montecarlo',\n",
       " 'zest',\n",
       " 'stackexchange-api',\n",
       " 'mocha',\n",
       " 'yodlee',\n",
       " 'nsnotifications',\n",
       " 'peoplesoft',\n",
       " 'jquery-ui-selectable',\n",
       " 'xmpp',\n",
       " 'accurev',\n",
       " 'mongrel',\n",
       " 'google-apps-script',\n",
       " 'srand',\n",
       " 'shipping',\n",
       " 'partial-functions',\n",
       " 'xml-configuration',\n",
       " 'gcc-warning',\n",
       " 'pycairo',\n",
       " 'lazy-evaluation',\n",
       " 'kettle',\n",
       " 'android-number-picker',\n",
       " 'apache-fop',\n",
       " 'gallery',\n",
       " 'grandchild',\n",
       " 'jlabel',\n",
       " 'curb',\n",
       " 'flask-sqlalchemy',\n",
       " 'gin',\n",
       " 'dynamic-variables',\n",
       " 'autovivification',\n",
       " 'gherkin',\n",
       " 'cdn',\n",
       " 'open-with',\n",
       " 'structural-typing',\n",
       " 'audio-streaming',\n",
       " 'hgignore',\n",
       " 'inotify',\n",
       " 'jquery-ui-slider',\n",
       " 'blink',\n",
       " 'putimagedata',\n",
       " 'visual-studio-macros',\n",
       " 'android-mapview',\n",
       " 'overlapping-instances',\n",
       " 'sqlplus',\n",
       " 'w3c-geolocation',\n",
       " 'octopus-deploy',\n",
       " 'live-wallpaper',\n",
       " 'file-conversion',\n",
       " 'zcat',\n",
       " 'lasagne',\n",
       " 'askbot',\n",
       " 'xfdl',\n",
       " 'android-viewpager',\n",
       " 'calc',\n",
       " 'savon',\n",
       " 'pgp',\n",
       " 'chatbot',\n",
       " 'channel-api',\n",
       " 'dynamic-programming',\n",
       " 'filestream',\n",
       " 'zbar',\n",
       " 'myhdl',\n",
       " 'ios8.3',\n",
       " 'localtime',\n",
       " 'xmlreader',\n",
       " 'elastica',\n",
       " 'localreport',\n",
       " 'kestrel-http-server',\n",
       " 'google-chrome-os',\n",
       " 'libssl',\n",
       " 'cardinality',\n",
       " 'weibull',\n",
       " 'hlist',\n",
       " 'talkback',\n",
       " 'receiver',\n",
       " 'recyclerview',\n",
       " 'mmx',\n",
       " 'h5py',\n",
       " 'policy',\n",
       " 'configuration-files',\n",
       " 'properties',\n",
       " 'url-pattern',\n",
       " 'bounded-wildcard',\n",
       " 'sugarorm',\n",
       " 'r-grid',\n",
       " 'selenium-fitnesse-bridge',\n",
       " 'bpl',\n",
       " 'static-data',\n",
       " 'dll',\n",
       " '3d',\n",
       " 'key-management',\n",
       " 'path-variables',\n",
       " 'return',\n",
       " 'facebook-iframe',\n",
       " 'dygraphs',\n",
       " 'hibernate-search',\n",
       " 'libqxt',\n",
       " 'apache-commons-io',\n",
       " 'access-vba',\n",
       " 'absolute-value',\n",
       " 'core.autocrlf',\n",
       " 'beagleboard',\n",
       " 'master-data-services',\n",
       " 'unity3d',\n",
       " 'config',\n",
       " 'gitblit',\n",
       " 'topology',\n",
       " 'google-search-api',\n",
       " 'dhtml',\n",
       " 'actor',\n",
       " 'ipad-3',\n",
       " 'quotemeta',\n",
       " 'openid-provider',\n",
       " 'fftw',\n",
       " 'identifier',\n",
       " 'opticalflow',\n",
       " 'webtest',\n",
       " 'event-store',\n",
       " 'rawstring',\n",
       " 'database-migration',\n",
       " 'mvel',\n",
       " 'transformer',\n",
       " 'alpha-beta-pruning',\n",
       " 'connection-string',\n",
       " 'raid',\n",
       " 'contenteditable',\n",
       " 'icomparer',\n",
       " 'nsinputstream',\n",
       " 'mocking',\n",
       " 'rack',\n",
       " 'editortemplates',\n",
       " 'appstore-sandbox',\n",
       " 'aggregation',\n",
       " 'beautytips',\n",
       " 'wack',\n",
       " ...]"
      ]
     },
     "execution_count": 143,
     "metadata": {},
     "output_type": "execute_result"
    },
    {
     "name": "stdout",
     "output_type": "stream",
     "text": [
      "time: 17.2 ms\n"
     ]
    }
   ],
   "source": [
    "unique_tags"
   ]
  },
  {
   "cell_type": "markdown",
   "metadata": {},
   "source": [
    "##### check the frequency of tags appeared in the dataset and take most common 100 tags "
   ]
  },
  {
   "cell_type": "code",
   "execution_count": 144,
   "metadata": {},
   "outputs": [
    {
     "name": "stdout",
     "output_type": "stream",
     "text": [
      "time: 200 ms\n"
     ]
    }
   ],
   "source": [
    "tags_frequency = nltk.FreqDist(tags_list)\n",
    "top_tags_dict = tags_frequency.most_common(100)\n",
    "top_tags = [tag_tuple[0] for tag_tuple in top_tags_dict]"
   ]
  },
  {
   "cell_type": "code",
   "execution_count": 145,
   "metadata": {},
   "outputs": [
    {
     "data": {
      "image/png": "[encoded data removed]",
      "text/plain": [
       "<Figure size 1080x720 with 1 Axes>"
      ]
     },
     "metadata": {
      "needs_background": "light"
     },
     "output_type": "display_data"
    },
    {
     "data": {
      "text/plain": [
       "<matplotlib.axes._subplots.AxesSubplot at 0x7f2758abb8d0>"
      ]
     },
     "execution_count": 145,
     "metadata": {},
     "output_type": "execute_result"
    },
    {
     "name": "stdout",
     "output_type": "stream",
     "text": [
      "time: 2.19 s\n"
     ]
    }
   ],
   "source": [
    "fig, ax = plt.subplots(figsize=(15, 10))\n",
    "tags_frequency.plot(100, cumulative=False)"
   ]
  },
  {
   "cell_type": "markdown",
   "metadata": {},
   "source": [
    "##### remove uncommon tags and drop null rows for tags"
   ]
  },
  {
   "cell_type": "code",
   "execution_count": 146,
   "metadata": {},
   "outputs": [
    {
     "data": {
      "text/plain": [
       "True"
      ]
     },
     "execution_count": 146,
     "metadata": {},
     "output_type": "execute_result"
    },
    {
     "name": "stdout",
     "output_type": "stream",
     "text": [
      "time: 2.57 ms\n"
     ]
    }
   ],
   "source": [
    "'java' in top_tags"
   ]
  },
  {
   "cell_type": "markdown",
   "metadata": {},
   "source": [
    "###### Remove uncommon tags "
   ]
  },
  {
   "cell_type": "code",
   "execution_count": 147,
   "metadata": {},
   "outputs": [
    {
     "name": "stdout",
     "output_type": "stream",
     "text": [
      "time: 1.42 ms\n"
     ]
    }
   ],
   "source": [
    "def remove_uncommon_tag(tags):\n",
    "    filtered = []\n",
    "    for i in range(len(tags)):\n",
    "        if tags[i] in top_tags:\n",
    "            filtered.append(tags[i])\n",
    "    if len(filtered):\n",
    "        return filtered\n",
    "    else:\n",
    "        return None"
   ]
  },
  {
   "cell_type": "code",
   "execution_count": 148,
   "metadata": {},
   "outputs": [
    {
     "data": {
      "text/html": [
       "<div>\n",
       "<style scoped>\n",
       "    .dataframe tbody tr th:only-of-type {\n",
       "        vertical-align: middle;\n",
       "    }\n",
       "\n",
       "    .dataframe tbody tr th {\n",
       "        vertical-align: top;\n",
       "    }\n",
       "\n",
       "    .dataframe thead th {\n",
       "        text-align: right;\n",
       "    }\n",
       "</style>\n",
       "<table border=\"1\" class=\"dataframe\">\n",
       "  <thead>\n",
       "    <tr style=\"text-align: right;\">\n",
       "      <th></th>\n",
       "      <th>Title</th>\n",
       "      <th>Body</th>\n",
       "      <th>Tags</th>\n",
       "    </tr>\n",
       "  </thead>\n",
       "  <tbody>\n",
       "    <tr>\n",
       "      <th>0</th>\n",
       "      <td>SQLStatement.execute() - multiple queries in o...</td>\n",
       "      <td>&lt;p&gt;I've written a database generation script i...</td>\n",
       "      <td>None</td>\n",
       "    </tr>\n",
       "    <tr>\n",
       "      <th>1</th>\n",
       "      <td>Good branching and merging tutorials for Torto...</td>\n",
       "      <td>&lt;p&gt;Are there any really good tutorials explain...</td>\n",
       "      <td>[svn]</td>\n",
       "    </tr>\n",
       "    <tr>\n",
       "      <th>2</th>\n",
       "      <td>ASP.NET Site Maps</td>\n",
       "      <td>&lt;p&gt;Has anyone got experience creating &lt;strong&gt;...</td>\n",
       "      <td>[sql, asp.net]</td>\n",
       "    </tr>\n",
       "    <tr>\n",
       "      <th>3</th>\n",
       "      <td>Function for creating color wheels</td>\n",
       "      <td>&lt;p&gt;This is something I've pseudo-solved many t...</td>\n",
       "      <td>[algorithm]</td>\n",
       "    </tr>\n",
       "    <tr>\n",
       "      <th>4</th>\n",
       "      <td>Adding scripting functionality to .NET applica...</td>\n",
       "      <td>&lt;p&gt;I have a little game written in C#. It uses...</td>\n",
       "      <td>[c#, .net]</td>\n",
       "    </tr>\n",
       "  </tbody>\n",
       "</table>\n",
       "</div>"
      ],
      "text/plain": [
       "                                               Title  \\\n",
       "0  SQLStatement.execute() - multiple queries in o...   \n",
       "1  Good branching and merging tutorials for Torto...   \n",
       "2                                  ASP.NET Site Maps   \n",
       "3                 Function for creating color wheels   \n",
       "4  Adding scripting functionality to .NET applica...   \n",
       "\n",
       "                                                Body            Tags  \n",
       "0  <p>I've written a database generation script i...            None  \n",
       "1  <p>Are there any really good tutorials explain...           [svn]  \n",
       "2  <p>Has anyone got experience creating <strong>...  [sql, asp.net]  \n",
       "3  <p>This is something I've pseudo-solved many t...     [algorithm]  \n",
       "4  <p>I have a little game written in C#. It uses...      [c#, .net]  "
      ]
     },
     "execution_count": 148,
     "metadata": {},
     "output_type": "execute_result"
    },
    {
     "name": "stdout",
     "output_type": "stream",
     "text": [
      "time: 545 ms\n"
     ]
    }
   ],
   "source": [
    "data_set.Tags = data_set.Tags.apply(lambda x: remove_uncommon_tag(x))\n",
    "data_set.head()"
   ]
  },
  {
   "cell_type": "markdown",
   "metadata": {},
   "source": [
    "###### drop the rows which have none for the tags"
   ]
  },
  {
   "cell_type": "code",
   "execution_count": 149,
   "metadata": {},
   "outputs": [
    {
     "data": {
      "text/plain": [
       "(63167, 3)"
      ]
     },
     "execution_count": 149,
     "metadata": {},
     "output_type": "execute_result"
    },
    {
     "name": "stdout",
     "output_type": "stream",
     "text": [
      "time: 22.4 ms\n"
     ]
    }
   ],
   "source": [
    "data_set.dropna(subset=['Tags'], inplace=True)\n",
    "data_set.shape"
   ]
  },
  {
   "cell_type": "code",
   "execution_count": 150,
   "metadata": {},
   "outputs": [
    {
     "data": {
      "text/plain": [
       "0"
      ]
     },
     "execution_count": 150,
     "metadata": {},
     "output_type": "execute_result"
    },
    {
     "name": "stdout",
     "output_type": "stream",
     "text": [
      "time: 8.74 ms\n"
     ]
    }
   ],
   "source": [
    "data_set.Tags.isna().sum()"
   ]
  },
  {
   "cell_type": "code",
   "execution_count": 151,
   "metadata": {},
   "outputs": [
    {
     "data": {
      "text/html": [
       "<div>\n",
       "<style scoped>\n",
       "    .dataframe tbody tr th:only-of-type {\n",
       "        vertical-align: middle;\n",
       "    }\n",
       "\n",
       "    .dataframe tbody tr th {\n",
       "        vertical-align: top;\n",
       "    }\n",
       "\n",
       "    .dataframe thead th {\n",
       "        text-align: right;\n",
       "    }\n",
       "</style>\n",
       "<table border=\"1\" class=\"dataframe\">\n",
       "  <thead>\n",
       "    <tr style=\"text-align: right;\">\n",
       "      <th></th>\n",
       "      <th>Title</th>\n",
       "      <th>Body</th>\n",
       "      <th>Tags</th>\n",
       "    </tr>\n",
       "  </thead>\n",
       "  <tbody>\n",
       "    <tr>\n",
       "      <th>1</th>\n",
       "      <td>Good branching and merging tutorials for Torto...</td>\n",
       "      <td>&lt;p&gt;Are there any really good tutorials explain...</td>\n",
       "      <td>[svn]</td>\n",
       "    </tr>\n",
       "    <tr>\n",
       "      <th>2</th>\n",
       "      <td>ASP.NET Site Maps</td>\n",
       "      <td>&lt;p&gt;Has anyone got experience creating &lt;strong&gt;...</td>\n",
       "      <td>[sql, asp.net]</td>\n",
       "    </tr>\n",
       "    <tr>\n",
       "      <th>3</th>\n",
       "      <td>Function for creating color wheels</td>\n",
       "      <td>&lt;p&gt;This is something I've pseudo-solved many t...</td>\n",
       "      <td>[algorithm]</td>\n",
       "    </tr>\n",
       "    <tr>\n",
       "      <th>4</th>\n",
       "      <td>Adding scripting functionality to .NET applica...</td>\n",
       "      <td>&lt;p&gt;I have a little game written in C#. It uses...</td>\n",
       "      <td>[c#, .net]</td>\n",
       "    </tr>\n",
       "    <tr>\n",
       "      <th>5</th>\n",
       "      <td>Should I use nested classes in this case?</td>\n",
       "      <td>&lt;p&gt;I am working on a collection of classes use...</td>\n",
       "      <td>[c++, oop, class]</td>\n",
       "    </tr>\n",
       "  </tbody>\n",
       "</table>\n",
       "</div>"
      ],
      "text/plain": [
       "                                               Title  \\\n",
       "1  Good branching and merging tutorials for Torto...   \n",
       "2                                  ASP.NET Site Maps   \n",
       "3                 Function for creating color wheels   \n",
       "4  Adding scripting functionality to .NET applica...   \n",
       "5          Should I use nested classes in this case?   \n",
       "\n",
       "                                                Body               Tags  \n",
       "1  <p>Are there any really good tutorials explain...              [svn]  \n",
       "2  <p>Has anyone got experience creating <strong>...     [sql, asp.net]  \n",
       "3  <p>This is something I've pseudo-solved many t...        [algorithm]  \n",
       "4  <p>I have a little game written in C#. It uses...         [c#, .net]  \n",
       "5  <p>I am working on a collection of classes use...  [c++, oop, class]  "
      ]
     },
     "execution_count": 151,
     "metadata": {},
     "output_type": "execute_result"
    },
    {
     "name": "stdout",
     "output_type": "stream",
     "text": [
      "time: 11.4 ms\n"
     ]
    }
   ],
   "source": [
    "data_set.head()"
   ]
  },
  {
   "cell_type": "markdown",
   "metadata": {},
   "source": [
    "#### cleaning the body & title"
   ]
  },
  {
   "cell_type": "markdown",
   "metadata": {},
   "source": [
    "##### explore the content"
   ]
  },
  {
   "cell_type": "code",
   "execution_count": 152,
   "metadata": {},
   "outputs": [
    {
     "data": {
      "text/html": [
       "<div>\n",
       "<style scoped>\n",
       "    .dataframe tbody tr th:only-of-type {\n",
       "        vertical-align: middle;\n",
       "    }\n",
       "\n",
       "    .dataframe tbody tr th {\n",
       "        vertical-align: top;\n",
       "    }\n",
       "\n",
       "    .dataframe thead th {\n",
       "        text-align: right;\n",
       "    }\n",
       "</style>\n",
       "<table border=\"1\" class=\"dataframe\">\n",
       "  <thead>\n",
       "    <tr style=\"text-align: right;\">\n",
       "      <th></th>\n",
       "      <th>Title</th>\n",
       "      <th>Body</th>\n",
       "      <th>Tags</th>\n",
       "    </tr>\n",
       "  </thead>\n",
       "  <tbody>\n",
       "    <tr>\n",
       "      <th>16357</th>\n",
       "      <td>sql error errno: 121</td>\n",
       "      <td>&lt;pre&gt;&lt;code&gt;CREATE TABLE `users` (\\n  `UID` INT...</td>\n",
       "      <td>[mysql, sql]</td>\n",
       "    </tr>\n",
       "    <tr>\n",
       "      <th>33134</th>\n",
       "      <td>Rake aborted... table 'users' already exists</td>\n",
       "      <td>&lt;p&gt;I have created a database with devise and t...</td>\n",
       "      <td>[ruby-on-rails, ruby, database]</td>\n",
       "    </tr>\n",
       "    <tr>\n",
       "      <th>33153</th>\n",
       "      <td>MySQL query performance dilemma: enum vs tables</td>\n",
       "      <td>&lt;p&gt;I currently have this schema:&lt;/p&gt;\\n\\n&lt;pre&gt;&lt;...</td>\n",
       "      <td>[mysql, performance]</td>\n",
       "    </tr>\n",
       "    <tr>\n",
       "      <th>46914</th>\n",
       "      <td>Rails creating migration to add columns to tab...</td>\n",
       "      <td>&lt;p&gt;I have a model created called \"users\" and i...</td>\n",
       "      <td>[ruby-on-rails, ruby, ruby-on-rails-3]</td>\n",
       "    </tr>\n",
       "    <tr>\n",
       "      <th>55148</th>\n",
       "      <td>Laravel 4 cannot run whole RAW queries</td>\n",
       "      <td>&lt;p&gt;I would like to use the DB class of laravel...</td>\n",
       "      <td>[php, mysql]</td>\n",
       "    </tr>\n",
       "  </tbody>\n",
       "</table>\n",
       "</div>"
      ],
      "text/plain": [
       "                                                   Title  \\\n",
       "16357                               sql error errno: 121   \n",
       "33134       Rake aborted... table 'users' already exists   \n",
       "33153    MySQL query performance dilemma: enum vs tables   \n",
       "46914  Rails creating migration to add columns to tab...   \n",
       "55148             Laravel 4 cannot run whole RAW queries   \n",
       "\n",
       "                                                    Body  \\\n",
       "16357  <pre><code>CREATE TABLE `users` (\\n  `UID` INT...   \n",
       "33134  <p>I have created a database with devise and t...   \n",
       "33153  <p>I currently have this schema:</p>\\n\\n<pre><...   \n",
       "46914  <p>I have a model created called \"users\" and i...   \n",
       "55148  <p>I would like to use the DB class of laravel...   \n",
       "\n",
       "                                         Tags  \n",
       "16357                            [mysql, sql]  \n",
       "33134         [ruby-on-rails, ruby, database]  \n",
       "33153                    [mysql, performance]  \n",
       "46914  [ruby-on-rails, ruby, ruby-on-rails-3]  \n",
       "55148                            [php, mysql]  "
      ]
     },
     "execution_count": 152,
     "metadata": {},
     "output_type": "execute_result"
    },
    {
     "name": "stdout",
     "output_type": "stream",
     "text": [
      "time: 57.2 s\n"
     ]
    }
   ],
   "source": [
    "data_set[data_set.apply(lambda row: row.astype(str).str.lower(\n",
    ").str.contains('create table `users`').any(), axis=1) == True]"
   ]
  },
  {
   "cell_type": "code",
   "execution_count": 153,
   "metadata": {},
   "outputs": [
    {
     "data": {
      "text/html": [
       "<div>\n",
       "<style scoped>\n",
       "    .dataframe tbody tr th:only-of-type {\n",
       "        vertical-align: middle;\n",
       "    }\n",
       "\n",
       "    .dataframe tbody tr th {\n",
       "        vertical-align: top;\n",
       "    }\n",
       "\n",
       "    .dataframe thead th {\n",
       "        text-align: right;\n",
       "    }\n",
       "</style>\n",
       "<table border=\"1\" class=\"dataframe\">\n",
       "  <thead>\n",
       "    <tr style=\"text-align: right;\">\n",
       "      <th></th>\n",
       "      <th>Title</th>\n",
       "      <th>Body</th>\n",
       "      <th>Tags</th>\n",
       "    </tr>\n",
       "  </thead>\n",
       "  <tbody>\n",
       "    <tr>\n",
       "      <th>4</th>\n",
       "      <td>Adding scripting functionality to .NET applica...</td>\n",
       "      <td>&lt;p&gt;I have a little game written in C#. It uses...</td>\n",
       "      <td>[c#, .net]</td>\n",
       "    </tr>\n",
       "    <tr>\n",
       "      <th>11</th>\n",
       "      <td>How to get the value of built, encoded ViewState?</td>\n",
       "      <td>&lt;p&gt;I need to grab the base64-encoded represent...</td>\n",
       "      <td>[c#, asp.net]</td>\n",
       "    </tr>\n",
       "    <tr>\n",
       "      <th>23</th>\n",
       "      <td>Convert HashBytes to VarChar</td>\n",
       "      <td>&lt;p&gt;I want to get the MD5 Hash of a string valu...</td>\n",
       "      <td>[sql, sql-server]</td>\n",
       "    </tr>\n",
       "    <tr>\n",
       "      <th>32</th>\n",
       "      <td>Converting ARBG to RGB with alpha blending</td>\n",
       "      <td>&lt;p&gt;Let's say that we have an ARGB color:&lt;/p&gt;\\n...</td>\n",
       "      <td>[c#]</td>\n",
       "    </tr>\n",
       "    <tr>\n",
       "      <th>34</th>\n",
       "      <td>MySQL/Apache Error in PHP MySQL query</td>\n",
       "      <td>&lt;p&gt;I am getting the following error:&lt;/p&gt;\\n\\n&lt;b...</td>\n",
       "      <td>[php, mysql]</td>\n",
       "    </tr>\n",
       "    <tr>\n",
       "      <th>...</th>\n",
       "      <td>...</td>\n",
       "      <td>...</td>\n",
       "      <td>...</td>\n",
       "    </tr>\n",
       "    <tr>\n",
       "      <th>72944</th>\n",
       "      <td>STL list very bad performance</td>\n",
       "      <td>&lt;p&gt;It's supposed that \"push_back\" and \"pop_fro...</td>\n",
       "      <td>[c++, list]</td>\n",
       "    </tr>\n",
       "    <tr>\n",
       "      <th>72945</th>\n",
       "      <td>How to use a dict to subset a DataFrame?</td>\n",
       "      <td>&lt;p&gt;Say, I have given a DataFrame with most of ...</td>\n",
       "      <td>[python]</td>\n",
       "    </tr>\n",
       "    <tr>\n",
       "      <th>72946</th>\n",
       "      <td>Is there a way to use itertools in python to c...</td>\n",
       "      <td>&lt;p&gt;Let's say I have the following code:&lt;/p&gt;\\n\\...</td>\n",
       "      <td>[python]</td>\n",
       "    </tr>\n",
       "    <tr>\n",
       "      <th>72948</th>\n",
       "      <td>Why does my result data returned as void* gets...</td>\n",
       "      <td>&lt;p&gt;I am working in a project with a huge legac...</td>\n",
       "      <td>[c++]</td>\n",
       "    </tr>\n",
       "    <tr>\n",
       "      <th>72949</th>\n",
       "      <td>What exactly makes a type system consistent?</td>\n",
       "      <td>&lt;p&gt;I've taken AndrÃ¡s KovÃ¡cs's &lt;a href=\"https...</td>\n",
       "      <td>[haskell]</td>\n",
       "    </tr>\n",
       "  </tbody>\n",
       "</table>\n",
       "<p>36971 rows × 3 columns</p>\n",
       "</div>"
      ],
      "text/plain": [
       "                                                   Title  \\\n",
       "4      Adding scripting functionality to .NET applica...   \n",
       "11     How to get the value of built, encoded ViewState?   \n",
       "23                          Convert HashBytes to VarChar   \n",
       "32            Converting ARBG to RGB with alpha blending   \n",
       "34                 MySQL/Apache Error in PHP MySQL query   \n",
       "...                                                  ...   \n",
       "72944                      STL list very bad performance   \n",
       "72945           How to use a dict to subset a DataFrame?   \n",
       "72946  Is there a way to use itertools in python to c...   \n",
       "72948  Why does my result data returned as void* gets...   \n",
       "72949       What exactly makes a type system consistent?   \n",
       "\n",
       "                                                    Body               Tags  \n",
       "4      <p>I have a little game written in C#. It uses...         [c#, .net]  \n",
       "11     <p>I need to grab the base64-encoded represent...      [c#, asp.net]  \n",
       "23     <p>I want to get the MD5 Hash of a string valu...  [sql, sql-server]  \n",
       "32     <p>Let's say that we have an ARGB color:</p>\\n...               [c#]  \n",
       "34     <p>I am getting the following error:</p>\\n\\n<b...       [php, mysql]  \n",
       "...                                                  ...                ...  \n",
       "72944  <p>It's supposed that \"push_back\" and \"pop_fro...        [c++, list]  \n",
       "72945  <p>Say, I have given a DataFrame with most of ...           [python]  \n",
       "72946  <p>Let's say I have the following code:</p>\\n\\...           [python]  \n",
       "72948  <p>I am working in a project with a huge legac...              [c++]  \n",
       "72949  <p>I've taken AndrÃ¡s KovÃ¡cs's <a href=\"https...          [haskell]  \n",
       "\n",
       "[36971 rows x 3 columns]"
      ]
     },
     "execution_count": 153,
     "metadata": {},
     "output_type": "execute_result"
    },
    {
     "name": "stdout",
     "output_type": "stream",
     "text": [
      "time: 55.4 s\n"
     ]
    }
   ],
   "source": [
    "data_set[data_set.apply(lambda row: row.astype(\n",
    "    str).str.lower().str.contains('<pre>').any(), axis=1) == True]"
   ]
  },
  {
   "cell_type": "code",
   "execution_count": 154,
   "metadata": {},
   "outputs": [
    {
     "data": {
      "text/plain": [
       "'<p>I have a little game written in C#. It uses a database as back-end. It\\'s \\na <a href=\"http://en.wikipedia.org/wiki/Collectible_card_game\">trading card game</a>, and I wanted to implement the function of the cards as a script.</p>\\n\\n<p>What I mean is that I essentially have an interface, <code>ICard</code>, which a card class implements (<code>public class Card056 : ICard</code>) and which contains function that are called by the game.</p>\\n\\n<p>Now, to make the thing maintainable/moddable, I would like to have the class for each card as source code in the database and essentially compile it on first use. So when I have to add/change a card, I\\'ll just add it to the database and tell my application to refresh, without needing any assembly deployment (especially since we would be talking about 1 assembly per card which means hundreds of assemblies).</p>\\n\\n<p>Is that possible? Register a class from a source file and then instantiate it, etc.</p>\\n\\n<pre><code>ICard Cards[current] = new MyGame.CardLibrary.Card056();\\nCards[current].OnEnterPlay(ref currentGameState);\\n</code></pre>\\n\\n<p>The language is C#, but extra bonus if it\\'s possible to write the script in any .NET language.</p>\\n'"
      ]
     },
     "execution_count": 154,
     "metadata": {},
     "output_type": "execute_result"
    },
    {
     "name": "stdout",
     "output_type": "stream",
     "text": [
      "time: 7.99 ms\n"
     ]
    }
   ],
   "source": [
    "text = data_set['Body'][4]\n",
    "text"
   ]
  },
  {
   "cell_type": "code",
   "execution_count": 156,
   "metadata": {},
   "outputs": [
    {
     "data": {
      "text/plain": [
       "'<pre><code>CREATE TABLE `users` (\\n  `UID` INT UNSIGNED NOT NULL AUTO_INCREMENT ,\\n  `username` VARCHAR(45) NOT NULL ,\\n  `password` VARCHAR(100) NULL ,\\n  `name` VARCHAR(100) NULL ,\\n  `gender` BIT NULL ,\\n  `email` VARCHAR(255) NULL ,\\n  `phone` VARCHAR(30) NOT NULL ,\\n  `verified` BIT NOT NULL DEFAULT 0 ,\\n  `time_zone` INT NULL ,\\n  `time_register` DATETIME NULL ,\\n  `time_active` DATETIME NULL ,\\n  PRIMARY KEY (`UID`) ,\\n  UNIQUE INDEX `username_UNIQUE` (`username` ASC) ,\\n  INDEX `verified_INDEX` (`verified` ASC) )\\nENGINE = InnoDB\\nDEFAULT CHARACTER SET = utf8;\\n\\n\\n-- -----------------------------------------------------\\n-- Table `companies`\\n-- -----------------------------------------------------\\nCREATE TABLE `companies` (\\n  `CID` INT UNSIGNED NOT NULL AUTO_INCREMENT ,\\n  `name` VARCHAR(45) NOT NULL ,\\n  `address` VARCHAR(100) NULL ,\\n  `email` VARCHAR(255) NULL ,\\n  `phone` VARCHAR(30) NULL ,\\n  `link` TEXT NULL ,\\n  `image_small` TEXT NULL ,\\n  `image_large` TEXT NULL ,\\n  `yahoo` VARCHAR(100) NULL ,\\n  `linkin` VARCHAR(100) NULL ,\\n  `twitter` VARCHAR(20) NULL ,\\n  `description` TEXT NULL ,\\n  `shoutout` VARCHAR(140) NULL ,\\n  `verified` BIT NOT NULL DEFAULT 0 ,\\n  PRIMARY KEY (`CID`) ,\\n  INDEX `name_INDEX` (`name` ASC) ,\\n  INDEX `verified_INDEX` (`verified` ASC) )\\nENGINE = InnoDB\\nDEFAULT CHARACTER SET = utf8;\\n\\n-- -----------------------------------------------------\\n-- Table `products`\\n-- -----------------------------------------------------\\nCREATE TABLE `products` (\\n  `PID` INT UNSIGNED NOT NULL AUTO_INCREMENT ,\\n  `CID` INT UNSIGNED NOT NULL ,\\n  `name` VARCHAR(100) NULL ,\\n  `description` TEXT NULL ,\\n  `image_small` TEXT NULL ,\\n  `image_large` TEXT NULL ,\\n  `tag` VARCHAR(45) NULL ,\\n  `price` DECIMAL(11,2) NULL ,\\n  PRIMARY KEY (`PID`) ,\\n  INDEX `tag_INDEX` (`tag` ASC) ,\\n  INDEX `company.cid_FK` (`CID` ASC) ,\\n  CONSTRAINT `company.cid_FK`\\n    FOREIGN KEY (`CID` )\\n    REFERENCES `companies` (`CID` )\\n    ON DELETE NO ACTION\\n    ON UPDATE NO ACTION)\\nENGINE = InnoDB\\nDEFAULT CHARACTER SET = utf8;\\n\\n-- -----------------------------------------------------\\n-- Table `users_companies`\\n-- -----------------------------------------------------\\nCREATE TABLE `users_companies` (\\n  `UID` INT UNSIGNED NOT NULL ,\\n  `CID` INT UNSIGNED NOT NULL ,\\n  `role` INT UNSIGNED NULL ,\\n  PRIMARY KEY (`CID`, `UID`) ,\\n  INDEX `users.uid_FK` (`UID` ASC) ,\\n  INDEX `company.cid_FK` (`CID` ASC) ,\\n  CONSTRAINT `users.uid_FK`\\n    FOREIGN KEY (`UID` )\\n    REFERENCES `users` (`UID` )\\n    ON DELETE NO ACTION\\n    ON UPDATE NO ACTION,\\n  CONSTRAINT `company.cid_FK`\\n    FOREIGN KEY (`CID` )\\n    REFERENCES `companies` (`CID` )\\n    ON DELETE NO ACTION\\n    ON UPDATE NO ACTION)\\nENGINE = InnoDB\\nDEFAULT CHARACTER SET = utf8;\\n</code></pre>\\n\\n<p>i got error</p>\\n\\n<pre><code>#1005 - Can\\'t create table \\'wew.users_companies\\' (errno: 121) (&lt;a href=\"server_engines.php?engine=InnoDB&amp;amp;page=Status&amp;amp;token=3f35afdea97dd11f6b4ec1b669816738\"&gt;Details...&lt;/a&gt;) \\n</code></pre>\\n\\n<p>can anyone tell me which one is the problem ?</p>\\n'"
      ]
     },
     "execution_count": 156,
     "metadata": {},
     "output_type": "execute_result"
    },
    {
     "name": "stdout",
     "output_type": "stream",
     "text": [
      "time: 5.49 ms\n"
     ]
    }
   ],
   "source": [
    "text = data_set['Body'][16357]\n",
    "text"
   ]
  },
  {
   "cell_type": "markdown",
   "metadata": {},
   "source": [
    "##### preprocessing "
   ]
  },
  {
   "cell_type": "code",
   "execution_count": 158,
   "metadata": {
    "code_folding": [
     8,
     14
    ]
   },
   "outputs": [
    {
     "name": "stdout",
     "output_type": "stream",
     "text": [
      "time: 9.18 ms\n"
     ]
    }
   ],
   "source": [
    "contraction_dict = {\"ain't\": \"is not\", \"aren't\": \"are not\", \"can't\": \"cannot\", \"'cause\": \"because\", \"could've\": \"could have\", \"couldn't\": \"could not\", \"didn't\": \"did not\",  \"doesn't\": \"does not\", \"don't\": \"do not\", \"hadn't\": \"had not\", \"hasn't\": \"has not\", \"haven't\": \"have not\", \"he'd\": \"he would\", \"he'll\": \"he will\", \"he's\": \"he is\", \"how'd\": \"how did\", \"how'd'y\": \"how do you\", \"how'll\": \"how will\", \"how's\": \"how is\",  \"I'd\": \"I would\", \"I'd've\": \"I would have\", \"I'll\": \"I will\", \"I'll've\": \"I will have\", \"I'm\": \"I am\", \"I've\": \"I have\", \"i'd\": \"i would\", \"i'd've\": \"i would have\", \"i'll\": \"i will\",  \"i'll've\": \"i will have\", \"i'm\": \"i am\", \"i've\": \"i have\", \"isn't\": \"is not\", \"it'd\": \"it would\", \"it'd've\": \"it would have\", \"it'll\": \"it will\", \"it'll've\": \"it will have\", \"it's\": \"it is\", \"let's\": \"let us\", \"ma'am\": \"madam\", \"mayn't\": \"may not\", \"might've\": \"might have\", \"mightn't\": \"might not\", \"mightn't've\": \"might not have\", \"must've\": \"must have\", \"mustn't\": \"must not\", \"mustn't've\": \"must not have\", \"needn't\": \"need not\", \"needn't've\": \"need not have\", \"o'clock\": \"of the clock\", \"oughtn't\": \"ought not\", \"oughtn't've\": \"ought not have\", \"shan't\": \"shall not\", \"sha'n't\": \"shall not\", \"shan't've\": \"shall not have\", \"she'd\": \"she would\", \"she'd've\": \"she would have\", \"she'll\": \"she will\", \"she'll've\": \"she will have\", \"she's\": \"she is\", \"should've\": \"should have\", \"shouldn't\": \"should not\", \"shouldn't've\": \"should not have\",\n",
    "                    \"so've\": \"so have\", \"so's\": \"so as\", \"this's\": \"this is\", \"that'd\": \"that would\", \"that'd've\": \"that would have\", \"that's\": \"that is\", \"there'd\": \"there would\", \"there'd've\": \"there would have\", \"there's\": \"there is\", \"here's\": \"here is\", \"they'd\": \"they would\", \"they'd've\": \"they would have\", \"they'll\": \"they will\", \"they'll've\": \"they will have\", \"they're\": \"they are\", \"they've\": \"they have\", \"to've\": \"to have\", \"wasn't\": \"was not\", \"we'd\": \"we would\", \"we'd've\": \"we would have\", \"we'll\": \"we will\", \"we'll've\": \"we will have\", \"we're\": \"we are\", \"we've\": \"we have\", \"weren't\": \"were not\", \"what'll\": \"what will\", \"what'll've\": \"what will have\", \"what're\": \"what are\",  \"what's\": \"what is\", \"what've\": \"what have\", \"when's\": \"when is\", \"when've\": \"when have\", \"where'd\": \"where did\", \"where's\": \"where is\", \"where've\": \"where have\", \"who'll\": \"who will\", \"who'll've\": \"who will have\", \"who's\": \"who is\", \"who've\": \"who have\", \"why's\": \"why is\", \"why've\": \"why have\", \"will've\": \"will have\", \"won't\": \"will not\", \"won't've\": \"will not have\", \"would've\": \"would have\", \"wouldn't\": \"would not\", \"wouldn't've\": \"would not have\", \"y'all\": \"you all\", \"y'all'd\": \"you all would\", \"y'all'd've\": \"you all would have\", \"y'all're\": \"you all are\", \"y'all've\": \"you all have\", \"you'd\": \"you would\", \"you'd've\": \"you would have\", \"you'll\": \"you will\", \"you'll've\": \"you will have\", \"you're\": \"you are\", \"you've\": \"you have\"}\n",
    "# from pycontractions import Contractions\n",
    "# cont = Contractions(kv_model=model)\n",
    "# cont.load_models()\n",
    "# def expand_contractions(text):\n",
    "#     \"\"\"expand shortened words, e.g. don't to do not\"\"\"\n",
    "#     text = list(cont.expand_texts([text], precise=True))[0]\n",
    "#     return text\n",
    "\n",
    "\n",
    "def _get_contractions(contraction_dict):\n",
    "    contraction_re = re.compile('(%s)' % '|'.join(contraction_dict.keys()))\n",
    "    return contraction_dict, contraction_re\n",
    "\n",
    "\n",
    "contractions, contractions_re = _get_contractions(contraction_dict)\n",
    "\n",
    "\n",
    "def replace_contractions(text):\n",
    "    def replace(match):\n",
    "        return contractions[match.group(0)]\n",
    "    return contractions_re.sub(replace, text)"
   ]
  },
  {
   "cell_type": "code",
   "execution_count": 159,
   "metadata": {
    "code_folding": [
     0
    ]
   },
   "outputs": [
    {
     "name": "stdout",
     "output_type": "stream",
     "text": [
      "time: 4.36 ms\n"
     ]
    }
   ],
   "source": [
    "puncts = [',',  '\"', ':', ')', '(', '-', '!', '?', '|', ';', \"'\", '$', '&', '/', '[', ']', '>', '%', '=',  '*', '\\\\', '•',  '~', '@', '£',\n",
    "          '_', '{', '}', '©', '^', '®', '`',  '<', '→', '°', '€', '™', '›',  '♥', '←', '×', '§', '″', '′', 'Â', '█', '½', 'à', '…',\n",
    "          '“', '★', '”', '–', '●', 'â', '►', '−', '¢', '²', '¬', '░', '¶', '↑', '±', '¿', '▾', '═', '¦', '║', '―', '¥', '▓', '—', '‹', '─',\n",
    "          '▒', '：', '¼', '⊕', '▼', '▪', '†', '■', '’', '▀', '¨', '▄', '♫', '☆', 'é', '¯', '♦', '¤', '▲', 'è', '¸', '¾', 'Ã', '⋅', '‘', '∞',\n",
    "          '∙', '）', '↓', '、', '│', '（', '»', '，', '♪', '╩', '╚', '³', '・', '╦', '╣', '╔', '╗', '▬', '❤', 'ï', 'Ø', '¹', '≤', '‡', '√', ]\n",
    "# + . # - are excluded\n",
    "\n",
    "\n",
    "def remove_punc(x):\n",
    "    x = str(x)\n",
    "    for punct in puncts:\n",
    "        if punct in x:\n",
    "            #             x = x.replace(punct, f' {punct} ')\n",
    "            x = x.replace(punct, '')\n",
    "    return x.strip()\n",
    "\n",
    "\n",
    "def remove_accented_chars(text):\n",
    "    \"\"\"remove accented characters from text, e.g. café\"\"\"\n",
    "    text = unidecode.unidecode(text)\n",
    "    return text\n",
    "\n",
    "\n",
    "def remove_whitespace(text):\n",
    "    \"\"\"remove extra whitespaces from text\"\"\"\n",
    "    text = text.strip()\n",
    "    return \" \".join(text.split())"
   ]
  },
  {
   "cell_type": "code",
   "execution_count": 160,
   "metadata": {
    "code_folding": []
   },
   "outputs": [
    {
     "name": "stdout",
     "output_type": "stream",
     "text": [
      "time: 3.35 ms\n"
     ]
    }
   ],
   "source": [
    "# def remove_html_tags(text):\n",
    "#     \"\"\"function to clean html tags from a string\"\"\"\n",
    "#     return BeautifulSoup(text).get_text()\n",
    "\n",
    "\n",
    "# def remove_code(text):\n",
    "#     \"\"\"function to clean codes from a string\"\"\"\n",
    "#     clean = re.compile(\"<code>(.*?)<\\/code>\")\n",
    "#     return re.sub(clean, '', text)\n",
    "def pre_remove(html):\n",
    "    \"\"\"function to clean codes &  html tags from a html string\"\"\"\n",
    "    soup = BeautifulSoup(html)\n",
    "    removable = ['pre', 'code']\n",
    "    for tag in soup.findAll():\n",
    "        if tag.name.lower() in removable:\n",
    "            tag.extract()\n",
    "    return soup.get_text()\n",
    "\n",
    "\n",
    "def remove_pre(text):\n",
    "    \"\"\"function to clean codes from a string\"\"\"\n",
    "    clean = re.compile(\"<pre>.*?<\\/pre>\")\n",
    "    return re.sub(clean, '', text)\n",
    "\n",
    "\n",
    "def clean_text(text):\n",
    "    html_cleaned = pre_remove(text)\n",
    "    contraction_restored = replace_contractions(html_cleaned)\n",
    "    puncts_removed = remove_punc(contraction_restored)\n",
    "    characters_unicoded = remove_accented_chars(puncts_removed)\n",
    "    return remove_whitespace(characters_unicoded)"
   ]
  },
  {
   "cell_type": "code",
   "execution_count": 161,
   "metadata": {},
   "outputs": [
    {
     "name": "stdout",
     "output_type": "stream",
     "text": [
      "time: 432 ms\n"
     ]
    }
   ],
   "source": [
    "data_set.columns = [col.lower() for col in data_set.columns.values]\n",
    "data_set.title = data_set.title.astype(str).str.lower()\n",
    "data_set.body = data_set.body.astype(str).str.lower()"
   ]
  },
  {
   "cell_type": "code",
   "execution_count": 162,
   "metadata": {},
   "outputs": [
    {
     "name": "stdout",
     "output_type": "stream",
     "text": [
      "time: 1min 57s\n"
     ]
    }
   ],
   "source": [
    "data_set.title = data_set.title.apply(lambda x: clean_text(x))\n",
    "data_set.body = data_set.body.apply(lambda x: clean_text(x))"
   ]
  },
  {
   "cell_type": "code",
   "execution_count": 163,
   "metadata": {},
   "outputs": [
    {
     "data": {
      "text/plain": [
       "'i am developing a sharepoint application and use .net ajaxcontroltoolkit library we are adding a custom aspx page to the sharepoint. sharepoint 2007 run in quirks mode so i have made some modification to the ajax library to make it behave like it normally should. the problem is the other team already use ajax library and it is a different version with mine. this cause conflict because there could be only one dll in the bin folder with the same name. from what i know .net should be able to handle this situation easily. i have tried using strong name and gac to solve it but it still refer to the dll in the bin folder. if there is no ajaxcontroltoolkit.dll in the bin folder the application will simply fail to load the assembly. if i use complete assembly information on my like this it gives me compiler error cs0433 can someone help me on how to use multiple version of assembly in an application'"
      ]
     },
     "execution_count": 163,
     "metadata": {},
     "output_type": "execute_result"
    },
    {
     "name": "stdout",
     "output_type": "stream",
     "text": [
      "time: 3.95 ms\n"
     ]
    }
   ],
   "source": [
    "data_set['body'][56]"
   ]
  },
  {
   "cell_type": "code",
   "execution_count": 165,
   "metadata": {
    "scrolled": true
   },
   "outputs": [
    {
     "data": {
      "text/plain": [
       "0"
      ]
     },
     "execution_count": 165,
     "metadata": {},
     "output_type": "execute_result"
    },
    {
     "name": "stdout",
     "output_type": "stream",
     "text": [
      "time: 11.7 ms\n"
     ]
    }
   ],
   "source": [
    "data_set.tags.isna().sum()"
   ]
  },
  {
   "cell_type": "code",
   "execution_count": 167,
   "metadata": {},
   "outputs": [
    {
     "name": "stdout",
     "output_type": "stream",
     "text": [
      "time: 49.5 ms\n"
     ]
    }
   ],
   "source": [
    "data_set['body_len'] = data_set.body.apply(lambda x: len(x))"
   ]
  },
  {
   "cell_type": "code",
   "execution_count": 174,
   "metadata": {},
   "outputs": [
    {
     "name": "stdout",
     "output_type": "stream",
     "text": [
      "time: 29.5 ms\n"
     ]
    }
   ],
   "source": [
    "data_set['title_len'] = data_set.title.apply(lambda x: len(x))"
   ]
  },
  {
   "cell_type": "code",
   "execution_count": 176,
   "metadata": {},
   "outputs": [
    {
     "data": {
      "text/plain": [
       "count    62739.000000\n",
       "mean        50.336234\n",
       "std         18.710482\n",
       "min          0.000000\n",
       "25%         37.000000\n",
       "50%         48.000000\n",
       "75%         61.000000\n",
       "max        170.000000\n",
       "Name: title_len, dtype: float64"
      ]
     },
     "execution_count": 176,
     "metadata": {},
     "output_type": "execute_result"
    },
    {
     "name": "stdout",
     "output_type": "stream",
     "text": [
      "time: 26.6 ms\n"
     ]
    }
   ],
   "source": [
    "data_set.title_len.describe()"
   ]
  },
  {
   "cell_type": "code",
   "execution_count": 171,
   "metadata": {},
   "outputs": [
    {
     "name": "stdout",
     "output_type": "stream",
     "text": [
      "time: 18 ms\n"
     ]
    }
   ],
   "source": [
    "data_set = data_set[data_set.body_len > 50]\n",
    "data_set.drop(columns=['body_len'])\n",
    "data_set.reset_index(inplace=True, drop=True)"
   ]
  },
  {
   "cell_type": "code",
   "execution_count": 177,
   "metadata": {},
   "outputs": [
    {
     "name": "stdout",
     "output_type": "stream",
     "text": [
      "time: 19.4 ms\n"
     ]
    }
   ],
   "source": [
    "data_set = data_set[data_set.title_len > 5]\n",
    "data_set.drop(columns=['title_len'])\n",
    "data_set.reset_index(inplace=True, drop=True)"
   ]
  },
  {
   "cell_type": "code",
   "execution_count": 179,
   "metadata": {},
   "outputs": [
    {
     "name": "stdout",
     "output_type": "stream",
     "text": [
      "time: 677 ms\n"
     ]
    }
   ],
   "source": [
    "data_set.to_pickle('cleaned.pkl')"
   ]
  },
  {
   "cell_type": "code",
   "execution_count": 178,
   "metadata": {},
   "outputs": [
    {
     "data": {
      "text/plain": [
       "(62733, 5)"
      ]
     },
     "execution_count": 178,
     "metadata": {},
     "output_type": "execute_result"
    },
    {
     "name": "stdout",
     "output_type": "stream",
     "text": [
      "time: 2.43 ms\n"
     ]
    }
   ],
   "source": [
    "data_set.shape"
   ]
  },
  {
   "cell_type": "code",
   "execution_count": 128,
   "metadata": {},
   "outputs": [
    {
     "name": "stdout",
     "output_type": "stream",
     "text": [
      "time: 336 ms\n"
     ]
    }
   ],
   "source": [
    "df = pd.read_pickle('cleaned.pkl')"
   ]
  },
  {
   "cell_type": "code",
   "execution_count": 129,
   "metadata": {},
   "outputs": [
    {
     "data": {
      "text/html": [
       "<div>\n",
       "<style scoped>\n",
       "    .dataframe tbody tr th:only-of-type {\n",
       "        vertical-align: middle;\n",
       "    }\n",
       "\n",
       "    .dataframe tbody tr th {\n",
       "        vertical-align: top;\n",
       "    }\n",
       "\n",
       "    .dataframe thead th {\n",
       "        text-align: right;\n",
       "    }\n",
       "</style>\n",
       "<table border=\"1\" class=\"dataframe\">\n",
       "  <thead>\n",
       "    <tr style=\"text-align: right;\">\n",
       "      <th></th>\n",
       "      <th>title</th>\n",
       "      <th>body</th>\n",
       "      <th>tags</th>\n",
       "    </tr>\n",
       "  </thead>\n",
       "  <tbody>\n",
       "    <tr>\n",
       "      <th>1</th>\n",
       "      <td>good branching and merging tutorials for torto...</td>\n",
       "      <td>are there any really good tutorials explaining...</td>\n",
       "      <td>[svn]</td>\n",
       "    </tr>\n",
       "    <tr>\n",
       "      <th>2</th>\n",
       "      <td>asp.net site maps</td>\n",
       "      <td>has anyone got experience creating sqlbased as...</td>\n",
       "      <td>[sql, asp.net]</td>\n",
       "    </tr>\n",
       "    <tr>\n",
       "      <th>3</th>\n",
       "      <td>function for creating color wheels</td>\n",
       "      <td>this is something i have pseudosolved many tim...</td>\n",
       "      <td>[algorithm]</td>\n",
       "    </tr>\n",
       "    <tr>\n",
       "      <th>4</th>\n",
       "      <td>adding scripting functionality to .net applica...</td>\n",
       "      <td>i have a little game written in c#. it uses a ...</td>\n",
       "      <td>[c#, .net]</td>\n",
       "    </tr>\n",
       "    <tr>\n",
       "      <th>5</th>\n",
       "      <td>should i use nested classes in this case</td>\n",
       "      <td>i am working on a collection of classes used f...</td>\n",
       "      <td>[c++, oop, class]</td>\n",
       "    </tr>\n",
       "  </tbody>\n",
       "</table>\n",
       "</div>"
      ],
      "text/plain": [
       "                                               title  \\\n",
       "1  good branching and merging tutorials for torto...   \n",
       "2                                  asp.net site maps   \n",
       "3                 function for creating color wheels   \n",
       "4  adding scripting functionality to .net applica...   \n",
       "5           should i use nested classes in this case   \n",
       "\n",
       "                                                body               tags  \n",
       "1  are there any really good tutorials explaining...              [svn]  \n",
       "2  has anyone got experience creating sqlbased as...     [sql, asp.net]  \n",
       "3  this is something i have pseudosolved many tim...        [algorithm]  \n",
       "4  i have a little game written in c#. it uses a ...         [c#, .net]  \n",
       "5  i am working on a collection of classes used f...  [c++, oop, class]  "
      ]
     },
     "execution_count": 129,
     "metadata": {},
     "output_type": "execute_result"
    },
    {
     "name": "stdout",
     "output_type": "stream",
     "text": [
      "time: 8.76 ms\n"
     ]
    }
   ],
   "source": [
    "df.head()"
   ]
  },
  {
   "cell_type": "code",
   "execution_count": 114,
   "metadata": {
    "scrolled": true
   },
   "outputs": [
    {
     "data": {
      "text/plain": [
       "(63167, 3)"
      ]
     },
     "execution_count": 114,
     "metadata": {},
     "output_type": "execute_result"
    },
    {
     "name": "stdout",
     "output_type": "stream",
     "text": [
      "time: 2.67 ms\n"
     ]
    }
   ],
   "source": [
    "df.shape"
   ]
  },
  {
   "cell_type": "code",
   "execution_count": 133,
   "metadata": {},
   "outputs": [
    {
     "data": {
      "text/plain": [
       "'in log4j there is a feature wherein the system can be initialized to do a configure and watch with an interval. this allows for the log4j system to reload its properties whenever the property file is changed. does the spring framework have such a configuration observer facility wherein the configuration is reloaded when it changed. the configuration that needs reloading is not the springss applicationcontext.xml but various other configuration files that are initialized using the spring initialization beans.'"
      ]
     },
     "execution_count": 133,
     "metadata": {},
     "output_type": "execute_result"
    },
    {
     "name": "stdout",
     "output_type": "stream",
     "text": [
      "time: 2.84 ms\n"
     ]
    }
   ],
   "source": [
    "df.body[2819]"
   ]
  },
  {
   "cell_type": "code",
   "execution_count": 124,
   "metadata": {},
   "outputs": [
    {
     "name": "stdout",
     "output_type": "stream",
     "text": [
      "time: 1.69 ms\n"
     ]
    }
   ],
   "source": [
    "dict_ = dict(tags_frequency)"
   ]
  },
  {
   "cell_type": "code",
   "execution_count": 125,
   "metadata": {},
   "outputs": [
    {
     "name": "stdout",
     "output_type": "stream",
     "text": [
      "time: 1.03 ms\n"
     ]
    }
   ],
   "source": [
    "names = list(dict_.keys())\n",
    "values = list(dict_.values())"
   ]
  }
 ],
 "metadata": {
  "kernelspec": {
   "display_name": "Python [conda env:tfnew] *",
   "language": "python",
   "name": "conda-env-tfnew-py"
  },
  "language_info": {
   "codemirror_mode": {
    "name": "ipython",
    "version": 3
   },
   "file_extension": ".py",
   "mimetype": "text/x-python",
   "name": "python",
   "nbconvert_exporter": "python",
   "pygments_lexer": "ipython3",
   "version": "3.7.4"
  },
  "toc": {
   "base_numbering": 1,
   "nav_menu": {},
   "number_sections": true,
   "sideBar": true,
   "skip_h1_title": false,
   "title_cell": "Table of Contents",
   "title_sidebar": "Contents",
   "toc_cell": false,
   "toc_position": {},
   "toc_section_display": true,
   "toc_window_display": true
  },
  "varInspector": {
   "cols": {
    "lenName": 16,
    "lenType": 16,
    "lenVar": 40
   },
   "kernels_config": {
    "python": {
     "delete_cmd_postfix": "",
     "delete_cmd_prefix": "del ",
     "library": "var_list.py",
     "varRefreshCmd": "print(var_dic_list())"
    },
    "r": {
     "delete_cmd_postfix": ") ",
     "delete_cmd_prefix": "rm(",
     "library": "var_list.r",
     "varRefreshCmd": "cat(var_dic_list()) "
    }
   },
   "types_to_exclude": [
    "module",
    "function",
    "builtin_function_or_method",
    "instance",
    "_Feature"
   ],
   "window_display": false
  }
 },
 "nbformat": 4,
 "nbformat_minor": 2
}
